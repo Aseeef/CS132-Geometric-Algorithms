{
 "cells": [
  {
   "cell_type": "markdown",
   "metadata": {
    "internals": {
     "slide_type": "subslide"
    },
    "slideshow": {
     "slide_type": "slide"
    }
   },
   "source": [
    "# Welcome to CS 132"
   ]
  },
  {
   "cell_type": "code",
   "execution_count": 1,
   "metadata": {
    "hide_input": true,
    "internals": {},
    "slideshow": {
     "slide_type": "skip"
    }
   },
   "outputs": [
    {
     "name": "stdout",
     "output_type": "stream",
     "text": [
      "\n"
     ]
    }
   ],
   "source": [
    "# for QR codes use inline\n",
    "%matplotlib inline\n",
    "qr_setting = 'url'\n",
    "#\n",
    "# for lecture use notebook\n",
    "# %matplotlib notebook\n",
    "# qr_setting = None\n",
    "#\n",
    "%config InlineBackend.figure_format='retina'\n",
    "# import libraries\n",
    "import numpy as np\n",
    "import matplotlib as mp\n",
    "import pandas as pd\n",
    "import matplotlib.pyplot as plt\n",
    "import laUtilities as ut\n",
    "import slideUtilities as sl\n",
    "import demoUtilities as dm\n",
    "import pandas as pd\n",
    "from importlib import reload\n",
    "from datetime import datetime\n",
    "from IPython.display import Image\n",
    "from IPython.display import display_html\n",
    "from IPython.display import display\n",
    "from IPython.display import Math\n",
    "from IPython.display import Latex\n",
    "from IPython.display import HTML\n",
    "reload(sl)\n",
    "reload(ut);"
   ]
  },
  {
   "cell_type": "markdown",
   "metadata": {
    "internals": {},
    "slideshow": {
     "slide_type": "-"
    }
   },
   "source": [
    "Geometric Algorithms: \"Linear Algebra from an Algorithmic Standpoint\""
   ]
  },
  {
   "cell_type": "markdown",
   "metadata": {
    "internals": {
     "frag_number": 4
    },
    "slideshow": {
     "slide_type": "fragment"
    }
   },
   "source": [
    "Who I am:\n",
    "* Professor Mark Crovella\n",
    "* Email: crovella@bu.edu\n",
    "* Office: MCS 101B\n",
    "* Office Hours: \n",
    "    "
   ]
  },
  {
   "cell_type": "markdown",
   "metadata": {
    "internals": {
     "frag_helper": "fragment_end",
     "frag_number": 5,
     "slide_type": "subslide"
    },
    "slideshow": {
     "slide_type": "slide"
    }
   },
   "source": [
    "\n",
    "> Linear algebra is a fantastic subject.  On the one hand it is clean and beautiful.  If you have three vectors in 12-dimensional space, you can almost see them. [...]\n",
    "> [And] It is _needed_ and _used_. [...] Linear algebra has become as basic and as applicable as calculus, and fortunately it is easier.\n",
    "\n",
    "Gilbert Strang\n",
    "\n",
    "> This course is potentially the most interesting and worthwhile undergraduate mathematics course you will complete.\n",
    "\n",
    "David Lay"
   ]
  },
  {
   "cell_type": "markdown",
   "metadata": {
    "slideshow": {
     "slide_type": "slide"
    }
   },
   "source": [
    "In this course we will study __linear algebra.__  \n",
    "\n",
    "Linear algebra is an incredibly useful tool that is crucially important to a number of areas in Computer Science.  "
   ]
  },
  {
   "cell_type": "markdown",
   "metadata": {
    "slideshow": {
     "slide_type": "fragment"
    }
   },
   "source": [
    "If you study __optimization,__ the starting point is linear algebra.  \n",
    "\n",
    "If you study __computer graphics,__ the language you use every day is linear algebra.  \n",
    "\n",
    "If you study the __performance of computer systems,__ you need linear algebra.  \n",
    "\n",
    "If you study __algorithms__ -- especially graph algorithms and optimization algorithms -- you will absolutely need linear algebra.  \n",
    "\n",
    "If you study __data mining,__ you will use linear algebra all the time.  \n",
    "\n",
    "And if you study __quantum computing,__ the standard computations you use are in the language of linear algebra."
   ]
  },
  {
   "cell_type": "markdown",
   "metadata": {
    "internals": {
     "frag_helper": "fragment_end",
     "frag_number": 5,
     "slide_helper": "subslide_end"
    },
    "slide_helper": "slide_end",
    "slideshow": {
     "slide_type": "fragment"
    }
   },
   "source": [
    "__The dominance of linear algebra arises because it is so fundamental,__ and in some ways, very simple.  \n",
    "\n",
    "It deals with objects that almost always can be interpreted geometrically.  So often we can use linear algebra in a very intuitive manner -- so much so that many times it is actually the best way to think about geometric problems. \n",
    "\n",
    "But it is also rigorous and captures situations that sometimes we would overlook if we were proceeding purely intuitively.  This is because it is also about solving equations, and finding solutions to various kinds of problems.  So the advantage of being basic and fundamental is that it can be used and applied in so many ways."
   ]
  },
  {
   "cell_type": "markdown",
   "metadata": {
    "internals": {
     "frag_helper": "fragment_end",
     "frag_number": 5,
     "slide_type": "subslide"
    },
    "slideshow": {
     "slide_type": "slide"
    }
   },
   "source": [
    "## What is different about how I will teach this course"
   ]
  },
  {
   "cell_type": "markdown",
   "metadata": {
    "slideshow": {
     "slide_type": "fragment"
    }
   },
   "source": [
    "* This is a course that is teaching a mathematical subject."
   ]
  },
  {
   "cell_type": "markdown",
   "metadata": {
    "slideshow": {
     "slide_type": "fragment"
    }
   },
   "source": [
    "* But, __crucially,__ I am also teaching you the subject from the viewpoint of __Computer Science.__"
   ]
  },
  {
   "cell_type": "markdown",
   "metadata": {
    "slideshow": {
     "slide_type": "fragment"
    }
   },
   "source": [
    "* So, we will learn the subject mathematically, that is, __rigorously.__"
   ]
  },
  {
   "cell_type": "markdown",
   "metadata": {
    "internals": {
     "frag_helper": "fragment_end",
     "frag_number": 5,
     "slide_helper": "subslide_end"
    },
    "slide_helper": "slide_end",
    "slideshow": {
     "slide_type": "fragment"
    }
   },
   "source": [
    "* However, we will always be concerned with things that pure mathematicians often gloss over: \n",
    "\n",
    "... that much of what we want to learn is how to think about __computation.__"
   ]
  },
  {
   "cell_type": "markdown",
   "metadata": {
    "slideshow": {
     "slide_type": "fragment"
    }
   },
   "source": [
    "* As a result, there will be a significant programming component to the course, and I will discuss computational implications frequently."
   ]
  },
  {
   "cell_type": "markdown",
   "metadata": {
    "internals": {
     "frag_helper": "fragment_end",
     "frag_number": 5,
     "slide_type": "subslide"
    },
    "slideshow": {
     "slide_type": "slide"
    }
   },
   "source": [
    "## Resources"
   ]
  },
  {
   "cell_type": "markdown",
   "metadata": {
    "internals": {
     "frag_helper": "fragment_end",
     "frag_number": 5,
     "slide_helper": "subslide_end"
    },
    "slide_helper": "slide_end",
    "slideshow": {
     "slide_type": "fragment"
    }
   },
   "source": [
    "* __Text:__ _Linear Algebra and Its Applications_ by David C. Lay, 5th edition.\n",
    "    * Readings will be assigned for each class.\n",
    "    * Some homework problems will be taken from the book.\n",
    "    * You do __not__ need to purchase the book - it is being provided online free of charge by Pearson\n",
    "    * Step by step instructions for accessing the e-text are on Piazza"
   ]
  },
  {
   "cell_type": "markdown",
   "metadata": {
    "slideshow": {
     "slide_type": "fragment"
    }
   },
   "source": [
    "* __Coding__\n",
    "    * All code in the course is Python 3\n",
    "    * You need to know Python and you will use it extensively\n",
    "    * Instructions for installing python are on Piazza"
   ]
  },
  {
   "cell_type": "markdown",
   "metadata": {
    "slideshow": {
     "slide_type": "fragment"
    }
   },
   "source": [
    "* __TopHat__\n",
    "    * We will be using _peer instruction_.  This requires you to answer questions during lecture, sometimes after discussion with your classmates.\n",
    "    * You will be required to answers questions in class using TopHat\n",
    "    * TopHat runs on your mobile device or laptop (at www.tophat.com)\n",
    "    * You need a subscription: $30 (semester)\n",
    "    * TopHat provides personal support (via support@tophat.com, the in-app support button, or by calling 1-888-663-5491)\n",
    "    * You should have received an email invite\n",
    "    * If you didn't, register using the join code 794726."
   ]
  },
  {
   "cell_type": "markdown",
   "metadata": {
    "slideshow": {
     "slide_type": "fragment"
    }
   },
   "source": [
    "* __Piazza__ \n",
    "    * For online discussion -- very important!\n",
    "    * Distribution of homework assignments and solutions.\n",
    "    * You should have received an email invite\n",
    "    * If you didn't, go to piazza.com/bu/spring2020/cs132/home and register yourself"
   ]
  },
  {
   "cell_type": "markdown",
   "metadata": {
    "slideshow": {
     "slide_type": "fragment"
    }
   },
   "source": [
    "* __Gradescope__\n",
    "    * Assignments are submitted via Gradescope (www.gradescope.com)\n",
    "    * You will need upload PDFs and code \n",
    "    * Instructions for uploading are on Piazza"
   ]
  },
  {
   "cell_type": "markdown",
   "metadata": {
    "internals": {
     "frag_helper": "fragment_end",
     "frag_number": 5,
     "slide_helper": "subslide_end"
    },
    "slide_helper": "slide_end",
    "slideshow": {
     "slide_type": "fragment"
    }
   },
   "source": [
    "* __Lecture slides:__ All slides will be made available online.\n",
    "    * https://github.com/mcrovella/CS132-Geometric-Algorithms\n",
    "    * Also PDF versions of slide material in handout form.\n",
    "    * Slides are _python notebooks_ -- they include excutable code."
   ]
  },
  {
   "cell_type": "markdown",
   "metadata": {
    "internals": {
     "frag_helper": "fragment_end",
     "frag_number": 5,
     "slide_helper": "subslide_end"
    },
    "slide_helper": "slide_end",
    "slideshow": {
     "slide_type": "fragment"
    }
   },
   "source": [
    "* __DiagramAR__\n",
    "    * Many figures presented in lecture are actually 3D\n",
    "    * We have developed an app to help you visualize these 3D figures\n",
    "    * It is called DiagramAR\n",
    "    * Available for iPhone (Android not ready yet -- sorry!)\n",
    "    * App Store Link: https://apps.apple.com/us/app/diagramar/id1484987191.\n",
    "    * When you see a figure in the lecture notes that has a QR code,\n",
    "        point the app at the figure and you will see the diagram in augmented reality\n",
    "    * This is entirely optional!"
   ]
  },
  {
   "cell_type": "markdown",
   "metadata": {
    "slideshow": {
     "slide_type": "slide"
    }
   },
   "source": [
    "## Staff"
   ]
  },
  {
   "cell_type": "markdown",
   "metadata": {
    "cell_style": "split",
    "internals": {
     "frag_helper": "fragment_end",
     "frag_number": 5,
     "slide_helper": "subslide_end"
    },
    "slide_helper": "slide_end",
    "slideshow": {
     "slide_type": "fragment"
    }
   },
   "source": [
    "### Teaching Fellow\n",
    "![](images/qinxun.jpg \"Qinxun\")\n",
    "* Mr. Nathan Cordner\n",
    "* Email: \n",
    "* Office Hours Location: \n",
    "* Office Hours: \n",
    "* Lab Tutoring Hours: TBD\n"
   ]
  },
  {
   "cell_type": "markdown",
   "metadata": {
    "cell_style": "split",
    "internals": {
     "frag_helper": "fragment_end",
     "frag_number": 5,
     "slide_helper": "subslide_end"
    },
    "slide_helper": "slide_end",
    "slideshow": {
     "slide_type": "fragment"
    }
   },
   "source": [
    "### Teaching Fellow:\n",
    "![](images/qinxun.jpg \"Qinxun\")\n",
    "\n",
    "* Mr. Max \n",
    "* Email: \n",
    "* Office Hours Location: \n",
    "* Office Hours: \n",
    "* Lab Tutoring Hours: TBD\n"
   ]
  },
  {
   "cell_type": "markdown",
   "metadata": {
    "slideshow": {
     "slide_type": "fragment"
    }
   },
   "source": [
    "### Course Assistants\n",
    "\n",
    "* Drew Abram, abramd@bu.edu\n",
    "* Cali Dolfi, cdolfi@bu.edu\n",
    "* Myles Hayes, mhayes18@bu.edu\n",
    "* Bjoern Hasemann, bjoernh@bu.edu\n",
    "* Keshav Maheshwari, km02@bu.edu\n",
    "* Snigdha Kalathur, srk22@bu.edu"
   ]
  },
  {
   "cell_type": "markdown",
   "metadata": {},
   "source": [
    "All TFs and CAs will hold office hours.  There will be more than 20+ office hours per week available to you."
   ]
  },
  {
   "cell_type": "markdown",
   "metadata": {
    "internals": {
     "frag_helper": "fragment_end",
     "frag_number": 5,
     "slide_type": "subslide"
    },
    "slideshow": {
     "slide_type": "slide"
    }
   },
   "source": [
    "## How the course is structured"
   ]
  },
  {
   "cell_type": "markdown",
   "metadata": {
    "internals": {
     "frag_helper": "fragment_end",
     "frag_number": 5,
     "slide_helper": "subslide_end"
    },
    "slide_helper": "slide_end",
    "slideshow": {
     "slide_type": "-"
    }
   },
   "source": [
    "* Two lectures a week: Tuesday and Thursday\n",
    "* Discussion section on Monday\n",
    "* Homework assigned on Thursday, due on the following Thursday before class"
   ]
  },
  {
   "cell_type": "markdown",
   "metadata": {
    "internals": {
     "frag_helper": "fragment_end",
     "frag_number": 5,
     "slide_type": "subslide"
    },
    "slideshow": {
     "slide_type": "slide"
    }
   },
   "source": [
    "## Grading"
   ]
  },
  {
   "cell_type": "markdown",
   "metadata": {
    "internals": {
     "frag_helper": "fragment_end",
     "frag_number": 5,
     "slide_helper": "subslide_end"
    },
    "slide_helper": "slide_end",
    "slideshow": {
     "slide_type": "-"
    }
   },
   "source": [
    "Homeworks will be submitted via `gradescope`.  \n",
    "\n",
    "__NOTE: (IMPORTANT)__ Late homeworks will not be accepted.  However your final grade will be based on the top 10 homeworks submitted (out of 12).\n",
    "\n",
    "Final grades will be computed based on the following:\n",
    "* 50% Homework assignments. The top 10 homework grades (out of the 12 assigned) will be used to compute this score\n",
    "* 5% Attendance and In-class participation via TopHat\n",
    "* 20% Midterm\n",
    "* 25% Final (Cumulative)"
   ]
  },
  {
   "cell_type": "markdown",
   "metadata": {
    "internals": {
     "frag_helper": "fragment_end",
     "frag_number": 5,
     "slide_type": "subslide"
    },
    "slideshow": {
     "slide_type": "slide"
    }
   },
   "source": [
    "## Academic Honesty"
   ]
  },
  {
   "cell_type": "markdown",
   "metadata": {
    "internals": {
     "frag_helper": "fragment_end",
     "frag_number": 5
    },
    "slideshow": {
     "slide_type": "-"
    }
   },
   "source": [
    "You may discuss homework assignments with classmates, but you are \n",
    "solely responsible for what you turn in. Collaboration in the form of\n",
    "discussion is allowed, but all forms of cheating (copying parts of a\n",
    "classmate's assignment, plagiarism from books or old posted solutions)\n",
    "are NOT allowed.\n",
    "\n",
    "I have brought students before the Academic Conduct Committee in the past.  It's not pleasant.   Students have been suspended or have voluntarily left in the past.  Let's not do that."
   ]
  }
 ],
 "metadata": {
  "celltoolbar": "Slideshow",
  "kernelspec": {
   "display_name": "Python 3",
   "language": "python",
   "name": "python3"
  },
  "language_info": {
   "codemirror_mode": {
    "name": "ipython",
    "version": 3
   },
   "file_extension": ".py",
   "mimetype": "text/x-python",
   "name": "python",
   "nbconvert_exporter": "python",
   "pygments_lexer": "ipython3",
   "version": "3.7.5"
  }
 },
 "nbformat": 4,
 "nbformat_minor": 1
}
