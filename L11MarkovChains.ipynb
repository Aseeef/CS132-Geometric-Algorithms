{
 "cells": [
  {
   "cell_type": "code",
   "execution_count": 1,
   "metadata": {
    "hide_input": true,
    "internals": {},
    "slideshow": {
     "slide_type": "skip"
    },
    "tags": [
     "hide-input"
    ]
   },
   "outputs": [],
   "source": [
    "# for QR codes use inline\n",
    "%matplotlib inline\n",
    "qr_setting = 'url'\n",
    "#\n",
    "# for lecture use notebook\n",
    "# %matplotlib notebook\n",
    "# qr_setting = None\n",
    "#\n",
    "%config InlineBackend.figure_format='retina'\n",
    "# import libraries\n",
    "import numpy as np\n",
    "import matplotlib as mp\n",
    "import pandas as pd\n",
    "import matplotlib.pyplot as plt\n",
    "import laUtilities as ut\n",
    "import slideUtilities as sl\n",
    "import demoUtilities as dm\n",
    "import pandas as pd\n",
    "from importlib import reload\n",
    "from datetime import datetime\n",
    "from IPython.display import Image\n",
    "from IPython.display import display_html\n",
    "from IPython.display import display\n",
    "from IPython.display import Math\n",
    "from IPython.display import Latex\n",
    "from IPython.display import HTML;"
   ]
  },
  {
   "cell_type": "markdown",
   "metadata": {
    "internals": {
     "slide_type": "subslide"
    },
    "slideshow": {
     "slide_type": "slide"
    }
   },
   "source": [
    "# Markov Chains"
   ]
  },
  {
   "cell_type": "code",
   "execution_count": 2,
   "metadata": {
    "hide_input": false,
    "internals": {
     "frag_number": 3
    },
    "slideshow": {
     "slide_type": "-"
    },
    "tags": [
     "hide-cell"
    ]
   },
   "outputs": [
    {
     "data": {
      "image/jpeg": "[encoded data removed]",
      "text/plain": [
       "<IPython.core.display.Image object>"
      ]
     },
     "metadata": {
      "image/jpeg": {
       "width": 250
      }
     },
     "output_type": "display_data"
    },
    {
     "data": {
      "text/html": [
       "<b>Andrei Markov, 1856 - 1922, St Petersburg.</b>"
      ],
      "text/plain": [
       "<IPython.core.display.HTML object>"
      ]
     },
     "metadata": {},
     "output_type": "display_data"
    }
   ],
   "source": [
    "# Image credit: http://en.wikipedia.org/wiki/Andrey_Markov#mediaviewer/File:AAMarkov.jpg\n",
    "display(Image(\"images/AAMarkov.jpg\", width=250))\n",
    "display(HTML(\"<b>Andrei Markov, 1856 - 1922, St Petersburg.</b>\"))"
   ]
  },
  {
   "cell_type": "code",
   "execution_count": 3,
   "metadata": {
    "hide_input": true,
    "internals": {
     "frag_number": 3
    },
    "slideshow": {
     "slide_type": "slide"
    },
    "tags": [
     "hide-input"
    ]
   },
   "outputs": [
    {
     "data": {
      "image/jpeg": "[encoded data removed]",
      "text/plain": [
       "<IPython.core.display.Image object>"
      ]
     },
     "metadata": {
      "image/jpeg": {
       "width": 250
      }
     },
     "output_type": "display_data"
    },
    {
     "data": {
      "text/html": [
       "<b>Andrei Markov, 1856 - 1922, St Petersburg.</b>"
      ],
      "text/plain": [
       "<IPython.core.display.HTML object>"
      ]
     },
     "metadata": {},
     "output_type": "display_data"
    }
   ],
   "source": [
    "# Image credit: http://en.wikipedia.org/wiki/Andrey_Markov#mediaviewer/File:AAMarkov.jpg\n",
    "display(Image(\"images/AAMarkov.jpg\", width=250))\n",
    "display(HTML(\"<b>Andrei Markov, 1856 - 1922, St Petersburg.</b>\"))"
   ]
  },
  {
   "cell_type": "code",
   "execution_count": 4,
   "metadata": {
    "hide_input": true,
    "tags": [
     "hide-input"
    ]
   },
   "outputs": [
    {
     "data": {
      "text/html": [
       "<a href=\"http://commons.wikimedia.org/wiki/File:AAMarkov.jpg#/media/File:AAMarkov.jpg\">AAMarkov</a> by unknown; originally uploaded to en-wikipedia by <a href=\"//en.wikipedia.org/wiki/User:Mhym\" class=\"extiw\" title=\"en:User:Mhym\">en:User:Mhym</a> - From the official web site of the <a href=\"//en.wikipedia.org/wiki/Russian_Academy_of_Sciences\" class=\"extiw\" title=\"en:Russian Academy of Sciences\">Russian Academy of Sciences</a>: <a rel=\"nofollow\" class=\"external free\" href=\"http://www.ras.ru/win/db/show_per.asp?P=.id-53175.ln-en.dl-.pr-inf.uk-0\">http://www.ras.ru/win/db/show_per.asp?P=.id-53175.ln-en.dl-.pr-inf.uk-0</a>. Licensed under Public Domain via <a href=\"//commons.wikimedia.org/wiki/\">Wikimedia Commons</a>."
      ],
      "text/plain": [
       "<IPython.core.display.HTML object>"
      ]
     },
     "execution_count": 4,
     "metadata": {},
     "output_type": "execute_result"
    }
   ],
   "source": [
    "HTML('<a href=\"http://commons.wikimedia.org/wiki/File:AAMarkov.jpg#/media/File:AAMarkov.jpg\">AAMarkov</a> by unknown; originally uploaded to en-wikipedia by <a href=\"//en.wikipedia.org/wiki/User:Mhym\" class=\"extiw\" title=\"en:User:Mhym\">en:User:Mhym</a> - From the official web site of the <a href=\"//en.wikipedia.org/wiki/Russian_Academy_of_Sciences\" class=\"extiw\" title=\"en:Russian Academy of Sciences\">Russian Academy of Sciences</a>: <a rel=\"nofollow\" class=\"external free\" href=\"http://www.ras.ru/win/db/show_per.asp?P=.id-53175.ln-en.dl-.pr-inf.uk-0\">http://www.ras.ru/win/db/show_per.asp?P=.id-53175.ln-en.dl-.pr-inf.uk-0</a>. Licensed under Public Domain via <a href=\"//commons.wikimedia.org/wiki/\">Wikimedia Commons</a>.')"
   ]
  },
  {
   "cell_type": "markdown",
   "metadata": {
    "internals": {
     "frag_helper": "fragment_end",
     "frag_number": 3,
     "slide_helper": "subslide_end"
    },
    "slide_helper": "slide_end",
    "slideshow": {
     "slide_type": "-"
    }
   },
   "source": [
    "Markov was part of the great tradition of mathematics in Russia.\n",
    "\n",
    "Markov started out working in number theory but then got interested in probability.  He enjoyed poetry and the great Russian poet Pushkin.   Markov studied the sequence of letters found in the text of _Eugene Onegin,_ in particular the sequence of consonants and vowels.   \n",
    "\n",
    "He sought a way to describe the patterns in the text.  This eventually led to the idea of a system in which one transitions between states, and the probability of going to another state depends only on the current state.\n",
    "\n",
    "Hence, Markov pioneered the study of systems in which the future state of the system depends only on the present state in a random fashion.  Classic examples in modern life include the movement of stock prices and the dynamics of animal populations.  \n",
    "\n",
    "These have since been termed \"Markov Chains.\"   \n",
    "\n",
    "Markov chains are essential tools in understanding, explaining, and predicting phenomena in computer science, physics, biology, economics, and finance."
   ]
  },
  {
   "cell_type": "markdown",
   "metadata": {
    "internals": {
     "frag_helper": "fragment_end",
     "frag_number": 3,
     "slide_type": "subslide"
    },
    "slideshow": {
     "slide_type": "slide"
    }
   },
   "source": [
    "Today we will study an application of linear algebra.  You will see how the concepts we use, such as vectors and matrices, get applied to a particular problem."
   ]
  },
  {
   "cell_type": "markdown",
   "metadata": {
    "internals": {
     "frag_helper": "fragment_end",
     "frag_number": 3,
     "slide_type": "subslide"
    },
    "slideshow": {
     "slide_type": "fragment"
    }
   },
   "source": [
    "Many applications in computing are concerned with how a system behaves over time.   \n",
    "\n",
    "Think of a Web server that is processing requests for Web pages, or network that is moving packets from place to place.  \n",
    "\n",
    "We would like to describe how systems like these operate, and analyze them to understand their performance limits."
   ]
  },
  {
   "cell_type": "markdown",
   "metadata": {
    "internals": {
     "frag_helper": "fragment_end",
     "frag_number": 6
    },
    "slideshow": {
     "slide_type": "fragment"
    }
   },
   "source": [
    "The way we model this is: \n",
    "\n",
    "* we define some vector that describes the state of the system, and \n",
    "* we formulate a rule that tells us how to compute the next state of the system based on the current state of the system."
   ]
  },
  {
   "cell_type": "markdown",
   "metadata": {
    "internals": {
     "frag_helper": "fragment_end",
     "frag_number": 7
    },
    "slideshow": {
     "slide_type": "fragment"
    }
   },
   "source": [
    "So we would say that the state of the system at time $k$ is a vector ${\\bf x_k} \\in \\mathbb{R}^n,$ and\n",
    "\n",
    "$${\\bf x_{k+1}} = T({\\bf x_k}),\\;\\;\\;\\mbox{for time}\\;k=0,1,2...$$\n",
    "\n",
    "where $T: \\mathbb{R}^n \\rightarrow \\mathbb{R}^n.$"
   ]
  },
  {
   "cell_type": "markdown",
   "metadata": {
    "internals": {
     "frag_helper": "fragment_end",
     "frag_number": 8
    },
    "slideshow": {
     "slide_type": "skip"
    }
   },
   "source": [
    "This situation is so common that it goes by many names:\n",
    "\n",
    "* In physics, this is called a __dynamical system__.  \n",
    "    * Here, ${\\bf x_k}$ might represent the position and velocity of a particle.\n",
    "    \n",
    "* When studying algorithms, this is called a __recurrence relation.__  \n",
    "    * Here, ${\\bf x_k}$ might represent the number of steps needed to solve a problem of size $k$.\n",
    "    \n",
    "* Most commonly, this is called a __difference equation.__ \n",
    "    * The reason for this terminology is that it is a discrete analog of a differential equation in $k$."
   ]
  },
  {
   "cell_type": "markdown",
   "metadata": {
    "internals": {
     "frag_helper": "fragment_end",
     "frag_number": 9
    },
    "slideshow": {
     "slide_type": "fragment"
    }
   },
   "source": [
    "The vector ${\\bf x_k}$ is called the _state vector._"
   ]
  },
  {
   "cell_type": "markdown",
   "metadata": {
    "internals": {
     "frag_helper": "fragment_end",
     "frag_number": 10,
     "slide_helper": "subslide_end"
    },
    "slide_helper": "slide_end",
    "slideshow": {
     "slide_type": "fragment"
    }
   },
   "source": [
    "Of course, we are going to be particularly interested in the case where $T$ is a linear transformation.   \n",
    "\n",
    "Then we know that we can write the difference equation as:\n",
    "\n",
    "$$ {\\bf x_{k+1}} = A{\\bf x_k},$$\n",
    "\n",
    "where $A \\in \\mathbb{R}^{n\\times n}.$   \n",
    "\n",
    "This is a _linear difference equation._"
   ]
  },
  {
   "cell_type": "markdown",
   "metadata": {
    "internals": {
     "frag_helper": "fragment_end",
     "frag_number": 10,
     "slide_type": "subslide"
    },
    "slideshow": {
     "slide_type": "slide"
    }
   },
   "source": [
    "__Example.__ \n",
    "\n",
    "Here is our warm-up problem.\n",
    "\n",
    "We are interested in the population of two regions, say the city and the suburbs.  \n",
    "\n",
    "Fix an initial year (say 2000) and let \n",
    "\n",
    "$$ {\\bf x_0} = \\left[\\begin{array}{cc}\\mbox{population of the city in 2000}\\\\\\mbox{population of the suburbs in 2000}\\end{array}\\right].$$"
   ]
  },
  {
   "cell_type": "markdown",
   "metadata": {
    "internals": {
     "frag_helper": "fragment_end",
     "frag_number": 12
    },
    "slideshow": {
     "slide_type": "fragment"
    }
   },
   "source": [
    "\n",
    "Then\n",
    "\n",
    "$$ {\\bf x_1} = \\left[\\begin{array}{cc}\\mbox{population of the city in 2001}\\\\\\mbox{population of the suburbs in 2001}\\end{array}\\right],$$\n",
    "\n",
    "$${\\bf x_2} = \\left[\\begin{array}{cc}\\mbox{population of the city in 2002}\\\\\\mbox{population of the suburbs in 2002}\\end{array}\\right],$$\n",
    "\n",
    "$$\\dots \\mbox{etc.}$$"
   ]
  },
  {
   "cell_type": "markdown",
   "metadata": {
    "internals": {
     "frag_helper": "fragment_end",
     "frag_number": 13
    },
    "slideshow": {
     "slide_type": "fragment"
    }
   },
   "source": [
    "We only concern ourselves with movements of people between the two regions. \n",
    "* no immigration, emigration, birth, death, etc."
   ]
  },
  {
   "cell_type": "markdown",
   "metadata": {
    "internals": {
     "frag_helper": "fragment_end",
     "frag_number": 14
    },
    "slideshow": {
     "slide_type": "fragment"
    }
   },
   "source": [
    "We assume that measurements have shown the following pattern: \n",
    "\n",
    "in any given year, \n",
    "\n",
    "* 5% of the people in the city move to the suburbs, and \n",
    "* 3% of the people in the suburbs move to the city."
   ]
  },
  {
   "cell_type": "markdown",
   "metadata": {
    "internals": {
     "frag_helper": "fragment_end",
     "frag_number": 15
    },
    "slideshow": {
     "slide_type": "fragment"
    }
   },
   "source": [
    "You can think of this as:\n",
    "\n",
    "$$\\begin{array}{rcc}&\\mbox{From City}&\\mbox{From Suburbs}\\\\\\mbox{To City}& .95&.03\\\\\\mbox{To Suburbs}&.05&.97\\end{array}$$"
   ]
  },
  {
   "cell_type": "markdown",
   "metadata": {
    "internals": {
     "frag_helper": "fragment_end",
     "frag_number": 16
    },
    "slideshow": {
     "slide_type": "fragment"
    }
   },
   "source": [
    "Then we can capture this update rule as a matrix:\n",
    "\n",
    "$$A = \\left[\\begin{array}{rr}.95&.03\\\\.05&.97\\end{array}\\right].$$"
   ]
  },
  {
   "cell_type": "markdown",
   "metadata": {
    "internals": {
     "frag_helper": "fragment_end",
     "frag_number": 17,
     "slide_helper": "subslide_end"
    },
    "slide_helper": "slide_end",
    "slideshow": {
     "slide_type": "fragment"
    }
   },
   "source": [
    "We can see that this is correct by verifying that:\n",
    "\n",
    "$$\\left[\\begin{array}{cc}\\mbox{city pop. in 2001}\\\\\\mbox{suburb pop. in 2001}\\end{array}\\right] =\\left[\\begin{array}{rr}.95&.03\\\\.05&.97\\end{array}\\right] \\left[\\begin{array}{cc}\\mbox{city pop. in 2000}\\\\\\mbox{suburb pop. in 2000}\\end{array}\\right].$$"
   ]
  },
  {
   "cell_type": "markdown",
   "metadata": {
    "internals": {
     "frag_helper": "fragment_end",
     "frag_number": 17,
     "slide_type": "subslide"
    },
    "slideshow": {
     "slide_type": "slide"
    }
   },
   "source": [
    "## Markov Chains"
   ]
  },
  {
   "cell_type": "markdown",
   "metadata": {
    "internals": {
     "frag_helper": "fragment_end",
     "frag_number": 19
    },
    "slideshow": {
     "slide_type": "fragment"
    }
   },
   "source": [
    "Let's look at $A$ again:\n",
    "\n",
    "$$A = \\left[\\begin{array}{rr}.95&.03\\\\.05&.97\\end{array}\\right].$$"
   ]
  },
  {
   "cell_type": "markdown",
   "metadata": {
    "internals": {
     "frag_helper": "fragment_end",
     "frag_number": 20
    },
    "slideshow": {
     "slide_type": "fragment"
    }
   },
   "source": [
    "We note that $A$ has a special property: each of its columns adds up to 1.   \n",
    "\n",
    "Also, it would not make sense to have negative entries in $A$."
   ]
  },
  {
   "cell_type": "markdown",
   "metadata": {
    "internals": {
     "frag_helper": "fragment_end",
     "frag_number": 21
    },
    "slideshow": {
     "slide_type": "fragment"
    }
   },
   "source": [
    "The reason that columns sum to 1 is that the total number of people in the system is not changing over time.   \n",
    "\n",
    "This leads to three definitions:"
   ]
  },
  {
   "cell_type": "markdown",
   "metadata": {
    "internals": {
     "frag_helper": "fragment_end",
     "frag_number": 21
    },
    "slideshow": {
     "slide_type": "fragment"
    }
   },
   "source": [
    "__Definition.__ A _probability vector_ is a vector of nonnegative entries that sums to 1.  "
   ]
  },
  {
   "cell_type": "markdown",
   "metadata": {
    "internals": {
     "frag_helper": "fragment_end",
     "frag_number": 22
    },
    "slideshow": {
     "slide_type": "fragment"
    }
   },
   "source": [
    "__Definition.__ A _stochastic_ matrix is a square matrix of nonnegative values whose columns each sum to 1."
   ]
  },
  {
   "cell_type": "markdown",
   "metadata": {
    "internals": {
     "frag_helper": "fragment_end",
     "frag_number": 23,
     "slide_helper": "subslide_end"
    },
    "slide_helper": "slide_end",
    "slideshow": {
     "slide_type": "fragment"
    }
   },
   "source": [
    "__Definition.__ A _Markov chain_ is a dynamical system whose state is a probability vector and which evolves according to a stochastic matrix.  \n",
    "\n",
    "That is, it is a probability vector ${\\bf x_0}$ and a stochastic matrix $A \\in \\mathbb{R}^{n\\times n}$ such that \n",
    "\n",
    "$${\\bf x_{k+1}} = A{\\bf x_k}\\;\\;\\;\\mbox{for}\\;k = 0,1,2,...$$"
   ]
  },
  {
   "cell_type": "markdown",
   "metadata": {
    "internals": {
     "frag_helper": "fragment_end",
     "frag_number": 23,
     "slide_type": "subslide"
    },
    "slideshow": {
     "slide_type": "slide"
    }
   },
   "source": [
    "So we think of a probability vector ${\\bf x_0}$ as describing how things are \"distributed\" across various categories -- the fraction of items that are in each category. "
   ]
  },
  {
   "cell_type": "markdown",
   "metadata": {
    "internals": {
     "frag_helper": "fragment_end",
     "frag_number": 25,
     "slide_helper": "subslide_end"
    },
    "slide_helper": "slide_end",
    "slideshow": {
     "slide_type": "fragment"
    }
   },
   "source": [
    "And we think of the stochastic matrix $A$ as describing how things \"redistribute\" themselves at each time step."
   ]
  },
  {
   "cell_type": "markdown",
   "metadata": {
    "internals": {
     "frag_helper": "fragment_end",
     "frag_number": 25,
     "slide_type": "subslide"
    },
    "slideshow": {
     "slide_type": "skip"
    }
   },
   "source": [
    "``` {toggle} \n",
    "Question Time! Q11.1\n",
    "```"
   ]
  },
  {
   "cell_type": "markdown",
   "metadata": {
    "internals": {
     "frag_helper": "fragment_end",
     "frag_number": 27
    },
    "slideshow": {
     "slide_type": "slide"
    }
   },
   "source": [
    "__Example.__ Suppose that in 2000 the population of the city is 600,000 and the population of the suburbs is 400,000.  What is the distribution of the population in 2001?  In 2002?  In 2020?"
   ]
  },
  {
   "cell_type": "markdown",
   "metadata": {
    "internals": {
     "frag_helper": "fragment_end",
     "frag_number": 28
    },
    "slideshow": {
     "slide_type": "fragment"
    }
   },
   "source": [
    "__Solution.__ First, we convert the population distribution to a probability vector.  This is done by simply normalizing by the sum of the vector elements.\n",
    "\n",
    "$$600,000 + 400,000 = 1,000,000.$$"
   ]
  },
  {
   "cell_type": "markdown",
   "metadata": {
    "internals": {
     "frag_helper": "fragment_end",
     "frag_number": 29
    },
    "slideshow": {
     "slide_type": "fragment"
    }
   },
   "source": [
    "$$\\frac{1}{1,000,000}\\left[\\begin{array}{rr}600,000\\\\400,000\\end{array}\\right] = \\left[\\begin{array}{rr}0.60\\\\0.40\\end{array}\\right].$$"
   ]
  },
  {
   "cell_type": "markdown",
   "metadata": {
    "internals": {
     "frag_helper": "fragment_end",
     "frag_number": 30
    },
    "slideshow": {
     "slide_type": "fragment"
    }
   },
   "source": [
    "Then the distribution of population in 2001 is:\n",
    "\n",
    "$$ {\\bf x_{1}} = A{\\bf x_0} = \\left[\\begin{array}{rr}.95&.03\\\\.05&.97\\end{array}\\right]\\left[\\begin{array}{rr}0.60\\\\0.40\\end{array}\\right] = \\left[\\begin{array}{rr}0.582\\\\0.418\\end{array}\\right].$$"
   ]
  },
  {
   "cell_type": "markdown",
   "metadata": {
    "internals": {
     "frag_helper": "fragment_end",
     "frag_number": 31
    },
    "slideshow": {
     "slide_type": "fragment"
    }
   },
   "source": [
    "And the distribution of the population in 2002 is:\n",
    "\n",
    "$$ {\\bf x_{2}} = A{\\bf x_1} = \\left[\\begin{array}{rr}.95&.03\\\\.05&.97\\end{array}\\right]\\left[\\begin{array}{rr}0.582\\\\0.418\\end{array}\\right] = \\left[\\begin{array}{rr}0.565\\\\0.435\\end{array}\\right].$$"
   ]
  },
  {
   "cell_type": "markdown",
   "metadata": {
    "internals": {
     "frag_helper": "fragment_end",
     "frag_number": 32
    },
    "slideshow": {
     "slide_type": "fragment"
    }
   },
   "source": [
    "Note that another way we could have written this is:\n",
    "\n",
    "$$ {\\bf x_{2}} = A{\\bf x_1} = A(A{\\bf x_0}) = A^2 {\\bf x_0}.$$"
   ]
  },
  {
   "cell_type": "markdown",
   "metadata": {
    "internals": {
     "frag_helper": "fragment_end",
     "frag_number": 33
    },
    "slideshow": {
     "slide_type": "fragment"
    }
   },
   "source": [
    "To answer the question for 2020, i.e., $k=20,$ we note that \n",
    "\n",
    "$${\\bf x_{20}} = \\overbrace{A\\cdots A}^{20} {\\bf x_0} = A^{20}{\\bf x_0}.$$"
   ]
  },
  {
   "cell_type": "code",
   "execution_count": 5,
   "metadata": {
    "internals": {
     "frag_helper": "fragment_end",
     "frag_number": 33
    },
    "slideshow": {
     "slide_type": "-"
    }
   },
   "outputs": [
    {
     "name": "stdout",
     "output_type": "stream",
     "text": [
      "[0.417456 0.582544]\n"
     ]
    }
   ],
   "source": [
    "# stochastic matrix A\n",
    "A = np.array(\n",
    "    [[0.95,0.03],\n",
    "     [0.05,0.97]])\n",
    "#\n",
    "# initial state vector x_0\n",
    "x_0 = np.array([0.60,0.40])\n",
    "#\n",
    "# compute A^20\n",
    "A_20 = np.linalg.matrix_power(A, 20)\n",
    "#\n",
    "# compute x_20\n",
    "x_20 = A_20 @ x_0\n",
    "print(x_20)"
   ]
  },
  {
   "cell_type": "markdown",
   "metadata": {
    "internals": {
     "frag_helper": "fragment_end",
     "frag_number": 35,
     "slide_helper": "subslide_end"
    },
    "slide_helper": "slide_end",
    "slideshow": {
     "slide_type": "fragment"
    }
   },
   "source": [
    "So we find that after 20 years, only 42% of the population will remain in the city."
   ]
  },
  {
   "cell_type": "markdown",
   "metadata": {
    "internals": {
     "frag_helper": "fragment_end",
     "frag_number": 35,
     "slide_helper": "subslide_end",
     "slide_type": "subslide"
    },
    "slide_helper": "slide_end",
    "slideshow": {
     "slide_type": "skip"
    }
   },
   "source": [
    "``` {toggle}\n",
    "Question Time! Q11.2\n",
    "```"
   ]
  },
  {
   "cell_type": "markdown",
   "metadata": {
    "internals": {
     "frag_helper": "fragment_end",
     "frag_number": 35,
     "slide_type": "subslide"
    },
    "slideshow": {
     "slide_type": "slide"
    }
   },
   "source": [
    "## Predicting the Distant Future"
   ]
  },
  {
   "cell_type": "markdown",
   "metadata": {
    "slideshow": {
     "slide_type": "fragment"
    }
   },
   "source": [
    "We noticed that the population of the city is going down.  Will everyone eventually live in the suburbs?"
   ]
  },
  {
   "cell_type": "markdown",
   "metadata": {
    "internals": {
     "frag_helper": "fragment_end",
     "frag_number": 38
    },
    "slideshow": {
     "slide_type": "fragment"
    }
   },
   "source": [
    "A important question about a Markov Chain is: what will happen in the distant future?\n",
    "\n",
    "For example, what happens to the population distribution in our example \"in the long run?\"  "
   ]
  },
  {
   "cell_type": "markdown",
   "metadata": {
    "internals": {
     "frag_helper": "fragment_end",
     "frag_number": 39
    },
    "slideshow": {
     "slide_type": "fragment"
    }
   },
   "source": [
    "Rather than answering that question right now, we'll take a more interesting example."
   ]
  },
  {
   "cell_type": "markdown",
   "metadata": {
    "internals": {
     "frag_helper": "fragment_end",
     "frag_number": 40
    },
    "slideshow": {
     "slide_type": "fragment"
    }
   },
   "source": [
    "Suppose we have a system whose state transition is described by the stochastic matrix\n",
    "\n",
    "$$P = \\left[\\begin{array}{rrr}.5&.2&.3\\\\.3&.8&.3\\\\.2&0&.4\\end{array}\\right]$$\n",
    "\n",
    "and which starts int the state \n",
    "\n",
    "$${\\bf x_0} = \\left[\\begin{array}{r}1\\\\0\\\\0\\end{array}\\right].$$"
   ]
  },
  {
   "cell_type": "markdown",
   "metadata": {
    "internals": {
     "frag_helper": "fragment_end",
     "frag_number": 41
    },
    "slideshow": {
     "slide_type": "fragment"
    }
   },
   "source": [
    "Consider the Markov Chain defined by $P$ and ${\\bf x_0}$, that is the chain defined as \n",
    "\n",
    "$${\\bf x_{k+1}} = P{\\bf x_k}\\;\\;\\;\\mbox{for}\\;k=0,1,2...$$"
   ]
  },
  {
   "cell_type": "markdown",
   "metadata": {
    "internals": {
     "frag_helper": "fragment_end",
     "frag_number": 42
    },
    "slideshow": {
     "slide_type": "fragment"
    }
   },
   "source": [
    "What happens to the system as time passes?\n",
    "\n",
    "Let's compute the state vectors ${\\bf x_1},\\dots,{\\bf x_{15}}$ to find out."
   ]
  },
  {
   "cell_type": "code",
   "execution_count": 6,
   "metadata": {
    "internals": {
     "frag_helper": "fragment_end",
     "frag_number": 43
    },
    "slideshow": {
     "slide_type": "fragment"
    }
   },
   "outputs": [
    {
     "name": "stdout",
     "output_type": "stream",
     "text": [
      "x(0) = [1 0 0]\n",
      "x(1) = [0.5 0.3 0.2]\n",
      "x(2) = [0.37 0.45 0.18]\n",
      "x(3) = [0.329 0.525 0.146]\n",
      "x(4) = [0.3133 0.5625 0.1242]\n",
      "x(5) = [0.30641 0.58125 0.11234]\n",
      "x(6) = [0.303157 0.590625 0.106218]\n",
      "x(7) = [0.3015689 0.5953125 0.1031186]\n",
      "x(8) = [0.30078253 0.59765625 0.10156122]\n",
      "x(9) = [0.30039088 0.59882813 0.10078099]\n",
      "x(10) = [0.30019536 0.59941406 0.10039057]\n",
      "x(11) = [0.30009767 0.59970703 0.1001953 ]\n",
      "x(12) = [0.30004883 0.59985352 0.10009765]\n",
      "x(13) = [0.30002441 0.59992676 0.10004883]\n",
      "x(14) = [0.30001221 0.59996338 0.10002441]\n"
     ]
    }
   ],
   "source": [
    "# stochastic matrix A\n",
    "A = np.array(\n",
    "    [[.5,.2,.3],\n",
    "     [.3,.8,.3],\n",
    "     [.2, 0,.4]])\n",
    "#\n",
    "# initial state vector\n",
    "x = np.array([1,0,0])\n",
    "#\n",
    "# array to hold each future state vector\n",
    "xs = np.zeros((15,3))\n",
    "# \n",
    "# compute future state vectors\n",
    "for i in range(15):\n",
    "    xs[i] = x\n",
    "    print(f'x({i}) = {x}')\n",
    "    x = A @ x"
   ]
  },
  {
   "cell_type": "markdown",
   "metadata": {
    "internals": {
     "frag_helper": "fragment_end",
     "frag_number": 44
    },
    "slideshow": {
     "slide_type": "fragment"
    }
   },
   "source": [
    "What is going on here?  Let's look at these values graphically."
   ]
  },
  {
   "cell_type": "code",
   "execution_count": 7,
   "metadata": {
    "hide_input": true,
    "internals": {
     "frag_helper": "fragment_end",
     "frag_number": 44
    },
    "slideshow": {
     "slide_type": "-"
    }
   },
   "outputs": [
    {
     "data": {
      "image/png": "[encoded data removed]",
      "text/plain": [
       "<Figure size 432x288 with 3 Axes>"
      ]
     },
     "metadata": {
      "image/png": {
       "height": 280,
       "width": 424
      },
      "needs_background": "light"
     },
     "output_type": "display_data"
    }
   ],
   "source": [
    "ax = plt.subplot(131)\n",
    "plt.plot(range(15),xs.T[0],'o-')\n",
    "ax.set_ylim([0,1])\n",
    "plt.title(r'$x_1$',size=24)\n",
    "ax = plt.subplot(132)\n",
    "plt.plot(range(15),xs.T[1],'o-')\n",
    "ax.set_ylim([0,1])\n",
    "plt.title(r'$x_2$',size=24)\n",
    "ax = plt.subplot(133)\n",
    "plt.plot(range(15),xs.T[2],'o-')\n",
    "ax.set_ylim([0,1])\n",
    "plt.title(r'$x_3$',size=24)\n",
    "plt.tight_layout()"
   ]
  },
  {
   "cell_type": "markdown",
   "metadata": {
    "internals": {
     "frag_helper": "fragment_end",
     "frag_number": 46
    },
    "slideshow": {
     "slide_type": "fragment"
    }
   },
   "source": [
    "Based on visual inspection, these vectors seem to be approaching\n",
    "\n",
    "$${\\bf q} = \\left[\\begin{array}{r}.3\\\\.6\\\\.1\\end{array}\\right].$$\n",
    "\n",
    "The components of ${\\bf x_k}$ don't seem to be changing much past about $k = 10.$"
   ]
  },
  {
   "cell_type": "markdown",
   "metadata": {
    "internals": {
     "frag_helper": "fragment_end",
     "frag_number": 47
    },
    "slideshow": {
     "slide_type": "fragment"
    }
   },
   "source": [
    "In fact, we can confirm that the this system would be stable at $\\left[\\begin{array}{r}.3\\\\.6\\\\.1\\end{array}\\right]$ by noting that:\n",
    "\n",
    "$$\\left[\\begin{array}{rrr}.5&.2&.3\\\\.3&.8&.3\\\\.2&0&.4\\end{array}\\right]\\left[\\begin{array}{r}.3\\\\.6\\\\.1\\end{array}\\right] = \\left[\\begin{array}{r}.15+.12+.03\\\\.09+.48+.03\\\\.06+0+.04\\end{array}\\right] = \\left[\\begin{array}{r}.3\\\\.6\\\\.1\\end{array}\\right].$$"
   ]
  },
  {
   "cell_type": "markdown",
   "metadata": {
    "internals": {
     "frag_helper": "fragment_end",
     "frag_number": 48,
     "slide_helper": "subslide_end"
    },
    "slide_helper": "slide_end",
    "slideshow": {
     "slide_type": "fragment"
    }
   },
   "source": [
    "This calculation is exact.  So it seems that:\n",
    "\n",
    "* the sequence of vectors is approaching $\\left[\\begin{array}{r}.3\\\\.6\\\\.1\\end{array}\\right]$ as a limit, and \n",
    "* when and if they get to that point, they will stabilize there."
   ]
  },
  {
   "cell_type": "markdown",
   "metadata": {
    "internals": {
     "frag_helper": "fragment_end",
     "frag_number": 48,
     "slide_type": "subslide"
    },
    "slideshow": {
     "slide_type": "slide"
    }
   },
   "source": [
    "## Steady-State Vectors"
   ]
  },
  {
   "cell_type": "markdown",
   "metadata": {
    "internals": {
     "frag_helper": "fragment_end",
     "frag_number": 50
    },
    "slideshow": {
     "slide_type": "fragment"
    }
   },
   "source": [
    "This convergence to a \"steady state\" is quite remarkable.  Is this a general phenomenon?   "
   ]
  },
  {
   "cell_type": "markdown",
   "metadata": {
    "internals": {
     "frag_helper": "fragment_end",
     "frag_number": 51
    },
    "slideshow": {
     "slide_type": "fragment"
    }
   },
   "source": [
    "__Definition.__ If $P$ is a stochastic matrix, then a __steady-state vector__ (or __equilibrium vector__) for $P$ is a probability vector $\\bf q$  such that:\n",
    "\n",
    "$$P{\\bf q} = {\\bf q}.$$"
   ]
  },
  {
   "cell_type": "markdown",
   "metadata": {
    "internals": {
     "frag_helper": "fragment_end",
     "frag_number": 52
    },
    "slideshow": {
     "slide_type": "fragment"
    }
   },
   "source": [
    "It can be shown that __every stochastic matrix has a steady-state vector.__ \n",
    "\n",
    "(We'll study this more closely in a later lecture.)"
   ]
  },
  {
   "cell_type": "markdown",
   "metadata": {
    "internals": {
     "frag_helper": "fragment_end",
     "frag_number": 53
    },
    "slideshow": {
     "slide_type": "fragment"
    }
   },
   "source": [
    "__Example.__\n",
    "\n",
    "$\\left[\\begin{array}{r}.3\\\\.6\\\\.1\\end{array}\\right]$ is the steady-state vector for $\\left[\\begin{array}{rrr}.5&.2&.3\\\\.3&.8&.3\\\\.2&0&.4\\end{array}\\right].$"
   ]
  },
  {
   "cell_type": "markdown",
   "metadata": {
    "internals": {
     "frag_helper": "fragment_end",
     "frag_number": 54
    },
    "slideshow": {
     "slide_type": "fragment"
    }
   },
   "source": [
    "__Example.__\n",
    "\n",
    "Recalling the population-movement example above."
   ]
  },
  {
   "cell_type": "markdown",
   "metadata": {
    "internals": {
     "frag_helper": "fragment_end",
     "frag_number": 55
    },
    "slideshow": {
     "slide_type": "fragment"
    }
   },
   "source": [
    "The probability vector ${\\bf q} = \\left[\\begin{array}{r}.375\\\\.625\\end{array}\\right]$ is a steady-state vector for the population migration matrix $A$, because\n",
    "\n",
    "$$A{\\bf q} = \\left[\\begin{array}{rr}.95&.03\\\\.05&.97\\end{array}\\right]\\left[\\begin{array}{r}.375\\\\.625\\end{array}\\right] = \\left[\\begin{array}{r}.35625+.01875\\\\.01875+.60625\\end{array}\\right] = \\left[\\begin{array}{r}.375\\\\.625\\end{array}\\right] = {\\bf q}.$$"
   ]
  },
  {
   "cell_type": "markdown",
   "metadata": {
    "internals": {
     "frag_helper": "fragment_end",
     "frag_number": 56,
     "slide_helper": "subslide_end"
    },
    "slide_helper": "slide_end",
    "slideshow": {
     "slide_type": "fragment"
    }
   },
   "source": [
    "To interpret this: \n",
    "\n",
    "* if the total population of the region is 1 million, \n",
    "* then if there are 375,000 persons in the city and 625,000 persons in the suburbs, \n",
    "* the populations of both the city and the suburbs would stabilize -- they would __stay the same in all future years.__"
   ]
  },
  {
   "cell_type": "markdown",
   "metadata": {
    "internals": {
     "frag_helper": "fragment_end",
     "frag_number": 56,
     "slide_type": "subslide"
    },
    "slideshow": {
     "slide_type": "slide"
    }
   },
   "source": [
    "## Finding the Steady State"
   ]
  },
  {
   "cell_type": "markdown",
   "metadata": {
    "internals": {
     "frag_helper": "fragment_end",
     "frag_number": 56
    },
    "slideshow": {
     "slide_type": "-"
    }
   },
   "source": [
    "OK, so it seems that the two Markov Chains we have studied so far each have a steady state.   This leads to two questions:"
   ]
  },
  {
   "cell_type": "markdown",
   "metadata": {
    "internals": {
     "frag_helper": "fragment_end",
     "frag_number": 59
    },
    "slideshow": {
     "slide_type": "fragment"
    }
   },
   "source": [
    "* Can we compute the steady state?  \n",
    "    * So far we have guessed what the steady state is, and then checked.  Can we compute the steady state directly?"
   ]
  },
  {
   "cell_type": "markdown",
   "metadata": {
    "internals": {
     "frag_helper": "fragment_end",
     "frag_number": 60
    },
    "slideshow": {
     "slide_type": "fragment"
    }
   },
   "source": [
    "* How do we know if:\n",
    "    * a Markov Chain has a unique steady state, and \n",
    "    * whether it will always converge to that steady state?"
   ]
  },
  {
   "cell_type": "markdown",
   "metadata": {
    "internals": {
     "frag_helper": "fragment_end",
     "frag_number": 61
    },
    "slideshow": {
     "slide_type": "fragment"
    }
   },
   "source": [
    "Let's start by thinking about how to compute the steady-state directly.\n",
    "\n",
    "__Example.__  Let $P = \\left[\\begin{array}{rr}.6&.3\\\\.4&.7\\end{array}\\right].$  Find a steady-state vector for $P$."
   ]
  },
  {
   "cell_type": "markdown",
   "metadata": {
    "internals": {
     "frag_helper": "fragment_end",
     "frag_number": 62
    },
    "slideshow": {
     "slide_type": "fragment"
    }
   },
   "source": [
    "__Solution.__ Let's simply solve the equation $P{\\bf x} = {\\bf x}.$"
   ]
  },
  {
   "cell_type": "markdown",
   "metadata": {
    "internals": {
     "frag_helper": "fragment_end",
     "frag_number": 63
    },
    "slideshow": {
     "slide_type": "fragment"
    }
   },
   "source": [
    "$$P{\\bf x} = {\\bf x}$$"
   ]
  },
  {
   "cell_type": "markdown",
   "metadata": {
    "internals": {
     "frag_helper": "fragment_end",
     "frag_number": 64
    },
    "slideshow": {
     "slide_type": "fragment"
    }
   },
   "source": [
    "$$P{\\bf x} -{\\bf x} = {\\bf 0}$$"
   ]
  },
  {
   "cell_type": "markdown",
   "metadata": {
    "internals": {
     "frag_helper": "fragment_end",
     "frag_number": 65
    },
    "slideshow": {
     "slide_type": "fragment"
    }
   },
   "source": [
    "$$P{\\bf x} -I{\\bf x} = {\\bf 0}$$"
   ]
  },
  {
   "cell_type": "markdown",
   "metadata": {
    "internals": {
     "frag_helper": "fragment_end",
     "frag_number": 66
    },
    "slideshow": {
     "slide_type": "fragment"
    }
   },
   "source": [
    "$$(P-I){\\bf x} = {\\bf 0}$$"
   ]
  },
  {
   "cell_type": "markdown",
   "metadata": {
    "internals": {
     "frag_helper": "fragment_end",
     "frag_number": 67
    },
    "slideshow": {
     "slide_type": "fragment"
    }
   },
   "source": [
    "Now, $P-I$ is a matrix, so this is a linear system that we can solve."
   ]
  },
  {
   "cell_type": "markdown",
   "metadata": {
    "internals": {
     "frag_helper": "fragment_end",
     "frag_number": 68
    },
    "slideshow": {
     "slide_type": "fragment"
    }
   },
   "source": [
    "$$P-I = \\left[\\begin{array}{rr}.6&.3\\\\.4&.7\\end{array}\\right] - \\left[\\begin{array}{rr}1&0\\\\0&1\\end{array}\\right] = \\left[\\begin{array}{rr}-.4&.3\\\\.4&-.3\\end{array}\\right].$$"
   ]
  },
  {
   "cell_type": "markdown",
   "metadata": {
    "internals": {
     "frag_helper": "fragment_end",
     "frag_number": 69
    },
    "slideshow": {
     "slide_type": "fragment"
    }
   },
   "source": [
    "To find all solutions of $(P-I){\\bf x} = {\\bf 0},$ we row reduce the augmented matrix:\n",
    "\n",
    "$$\\left[\\begin{array}{rrr}-.4&.3&0\\\\.4&-.3&0\\end{array}\\right] \\sim \\left[\\begin{array}{rrr}-.4&.3&0\\\\0&0&0\\end{array}\\right] \\sim \\left[\\begin{array}{rrr}1&-3/4&0\\\\0&0&0\\end{array}\\right].$$"
   ]
  },
  {
   "cell_type": "markdown",
   "metadata": {
    "internals": {
     "frag_helper": "fragment_end",
     "frag_number": 70
    },
    "slideshow": {
     "slide_type": "fragment"
    }
   },
   "source": [
    "So $x_1 = \\frac{3}{4}x_2$ and $x_2$ is free.  The general solution is $\\left[\\begin{array}{c}\\frac{3}{4}x_2\\\\x_2\\end{array}\\right].$"
   ]
  },
  {
   "cell_type": "markdown",
   "metadata": {
    "internals": {
     "frag_helper": "fragment_end",
     "frag_number": 71
    },
    "slideshow": {
     "slide_type": "fragment"
    }
   },
   "source": [
    "This means that there are an infinite set of solutions.  Which one are we interested in?"
   ]
  },
  {
   "cell_type": "markdown",
   "metadata": {
    "internals": {
     "frag_helper": "fragment_end",
     "frag_number": 72
    },
    "slideshow": {
     "slide_type": "fragment"
    }
   },
   "source": [
    "Remember that our vectors ${\\bf x}$ are _probability vectors._   So we are interested in the solution in which the vector elements are nonnegative and sum to 1.  \n",
    "\n",
    "The simple way to find this is to take any solution, and divide it by the sum of the entries (so that the sum then adds to 1.)  \n",
    "\n",
    "Let's choose $x_2 = 1$, so the specific solution is:\n",
    "\n",
    "$$\\left[\\begin{array}{r}\\frac{3}{4}\\\\1\\end{array}\\right].$$"
   ]
  },
  {
   "cell_type": "markdown",
   "metadata": {
    "internals": {
     "frag_helper": "fragment_end",
     "frag_number": 73
    },
    "slideshow": {
     "slide_type": "fragment"
    }
   },
   "source": [
    "Normalizing this by the sum of the entries ($\\frac{7}{4}$) we get:\n",
    "\n",
    "$${\\bf q} = \\left[\\begin{array}{r}\\frac{3}{7}\\\\\\frac{4}{7}\\end{array}\\right].$$"
   ]
  },
  {
   "cell_type": "markdown",
   "metadata": {
    "internals": {
     "frag_helper": "fragment_end",
     "frag_number": 74,
     "slide_helper": "subslide_end"
    },
    "slide_helper": "slide_end",
    "slideshow": {
     "slide_type": "fragment"
    }
   },
   "source": [
    "So, we have found how to solve a Markov Chain for its steady state:\n",
    "\n",
    "* Solve the linear system $(P-I){\\bf x} = {\\bf 0}.$  \n",
    "* The system will have an infinite number of solutions, with one free variable.  Obtain a general solution.\n",
    "* Pick any specific solution (choose any value for the free variable), and normalize it so the entries add up to 1.\n"
   ]
  },
  {
   "cell_type": "markdown",
   "metadata": {
    "internals": {
     "frag_helper": "fragment_end",
     "frag_number": 74,
     "slide_type": "subslide"
    },
    "slideshow": {
     "slide_type": "slide"
    }
   },
   "source": [
    "## Existence of, and Convergence to, Steady State"
   ]
  },
  {
   "cell_type": "markdown",
   "metadata": {
    "internals": {
     "frag_helper": "fragment_end",
     "frag_number": 74
    },
    "slideshow": {
     "slide_type": "-"
    }
   },
   "source": [
    "Finally: when does a system have a __unique__ solution that is a probability vector, and how do we know it will converge to that vector? "
   ]
  },
  {
   "cell_type": "markdown",
   "metadata": {
    "internals": {
     "frag_helper": "fragment_end",
     "frag_number": 77
    },
    "slideshow": {
     "slide_type": "fragment"
    }
   },
   "source": [
    "Of course, a linear system in general might have no solutions, or it might have a unique solution that is not a probability vector.  \n",
    "\n",
    "So what we are asking is, when does a system defined by a Markov Chain have an infinite set of solutions, so that we can find one of them that is a probability vector?"
   ]
  },
  {
   "cell_type": "markdown",
   "metadata": {
    "internals": {
     "frag_helper": "fragment_end",
     "frag_number": 78
    },
    "slideshow": {
     "slide_type": "fragment"
    }
   },
   "source": [
    "__Definition.__  We say that a stochastic matrix $P$ is _regular_ if some matrix power $P^k$ contains only strictly positive entries.  "
   ]
  },
  {
   "cell_type": "markdown",
   "metadata": {
    "internals": {
     "frag_helper": "fragment_end",
     "frag_number": 79
    },
    "slideshow": {
     "slide_type": "fragment"
    }
   },
   "source": [
    "For \n",
    "\n",
    "$$P =\\left[\\begin{array}{rrr}.5&.2&.3\\\\.3&.8&.3\\\\.2&0&.4\\end{array}\\right],$$\n",
    "\n",
    "We note that $P$ does not have every entry strictly positive.  "
   ]
  },
  {
   "cell_type": "markdown",
   "metadata": {
    "internals": {
     "frag_helper": "fragment_end",
     "frag_number": 80,
     "slide_helper": "subslide_end"
    },
    "slide_helper": "slide_end",
    "slideshow": {
     "slide_type": "fragment"
    }
   },
   "source": [
    "However:\n",
    "\n",
    "$$P^2 = \\left[\\begin{array}{rrr}.37&.26&.33\\\\.45&.70&.45\\\\.18&.04&.22\\end{array}\\right].$$\n",
    "\n",
    "Since every entry in $P^2$ is positive, $P$ is a regular stochastic matrix."
   ]
  },
  {
   "cell_type": "markdown",
   "metadata": {
    "internals": {
     "frag_helper": "fragment_end",
     "frag_number": 80,
     "slide_type": "subslide"
    },
    "slideshow": {
     "slide_type": "slide"
    }
   },
   "source": [
    "__Theorem.__ If $P$ is an $n\\times n$ regular stochastic matrix, then $P$ has a unique steady-state vector ${\\bf q}.$  Further, if ${\\bf x_0}$ is any initial state and ${\\bf x_{k+1}} = P{\\bf x_k}$ for $k = 0, 1, 2,\\dots,$ then the Markov Chain $\\{{\\bf x_k}\\}$ converges to ${\\bf q}$ as $k \\rightarrow \\infty.$"
   ]
  },
  {
   "cell_type": "markdown",
   "metadata": {
    "internals": {
     "frag_helper": "fragment_end",
     "frag_number": 82,
     "slide_helper": "subslide_end"
    },
    "slide_helper": "slide_end",
    "slideshow": {
     "slide_type": "fragment"
    }
   },
   "source": [
    "Note the phrase \"any initial state.\"  \n",
    "\n",
    "This is a remarkable property of a Markov Chain: it converges to its steady-state vector __no matter what state the chain starts in.__\n",
    "\n",
    "We say that the long-term behavior of the chain has \"no memory of the starting state.\"\n"
   ]
  },
  {
   "cell_type": "markdown",
   "metadata": {
    "internals": {
     "frag_helper": "fragment_end",
     "frag_number": 82,
     "slide_helper": "subslide_end",
     "slide_type": "subslide"
    },
    "slide_helper": "slide_end",
    "slideshow": {
     "slide_type": "skip"
    }
   },
   "source": [
    "``` {toggle}\n",
    "Question Time! Q11.3\n",
    "```"
   ]
  },
  {
   "cell_type": "markdown",
   "metadata": {
    "internals": {
     "frag_helper": "fragment_end",
     "frag_number": 82,
     "slide_type": "subslide"
    },
    "slideshow": {
     "slide_type": "slide"
    }
   },
   "source": [
    "__Example.__  Consider a computer system that consists of a disk, a CPU, and a network interface.  "
   ]
  },
  {
   "cell_type": "markdown",
   "metadata": {
    "internals": {
     "frag_helper": "fragment_end",
     "frag_number": 85
    },
    "slideshow": {
     "slide_type": "fragment"
    }
   },
   "source": [
    "A set of jobs are loaded into the system.   Each job makes requests for service from each of the components of the system.\n",
    "\n",
    "After receiving service, the job then next requests service from the same or a different component, and so on.  "
   ]
  },
  {
   "cell_type": "markdown",
   "metadata": {
    "internals": {
     "frag_helper": "fragment_end",
     "frag_number": 86
    },
    "slideshow": {
     "slide_type": "fragment"
    }
   },
   "source": [
    "Jobs move between system components according to the following diagram.   \n",
    "\n",
    "For example, after receiving service from the Disk, 70% of jobs return to the disk for another unit of service;  20% request service from the network interface;  and 10% request service from the CPU."
   ]
  },
  {
   "cell_type": "code",
   "execution_count": 8,
   "metadata": {
    "hide_input": true,
    "internals": {
     "frag_helper": "fragment_end",
     "frag_number": 86
    },
    "slideshow": {
     "slide_type": "-"
    },
    "tags": [
     "hide-input"
    ]
   },
   "outputs": [
    {
     "data": {
      "image/png": "[encoded data removed]",
      "text/plain": [
       "<IPython.core.display.Image object>"
      ]
     },
     "metadata": {
      "image/png": {
       "width": 500
      }
     },
     "output_type": "display_data"
    }
   ],
   "source": [
    "# Image credit: my own drawing\n",
    "display(Image(\"images/disk-cpu-net.png\", width=500))"
   ]
  },
  {
   "cell_type": "markdown",
   "metadata": {
    "internals": {
     "frag_helper": "fragment_end",
     "frag_number": 86
    },
    "slideshow": {
     "slide_type": "-"
    }
   },
   "source": [
    "Assume the system runs for a long time.  Determine whether the system will stabilize, and if so, find the fraction of jobs that are using each device once stabilized.   Which device is busiest?  Least busy?"
   ]
  },
  {
   "cell_type": "markdown",
   "metadata": {
    "internals": {
     "frag_helper": "fragment_end",
     "frag_number": 89
    },
    "slideshow": {
     "slide_type": "fragment"
    }
   },
   "source": [
    "__Solution.__  From the diagram, the movement of jobs among components is given by:\n",
    "\n",
    "$$ \\begin{array}{rccc}&\\mbox{From Disk}&\\mbox{From Net}&\\mbox{From CPU}\\\\\\mbox{To Disk}&0.70&0.10&0.30\\\\\\mbox{To Net}&0.20&0.80&0.30\\\\\\mbox{To CPU}&0.10&0.10&0.40\\end{array}$$"
   ]
  },
  {
   "cell_type": "markdown",
   "metadata": {
    "internals": {
     "frag_helper": "fragment_end",
     "frag_number": 90
    },
    "slideshow": {
     "slide_type": "fragment"
    }
   },
   "source": [
    "This corresponds to the stochastic matrix:\n",
    "\n",
    "$$P = \\left[\\begin{array}{rrr}0.70&0.10&0.30\\\\0.20&0.80&0.30\\\\0.10&0.10&0.40\\end{array}\\right].$$"
   ]
  },
  {
   "cell_type": "markdown",
   "metadata": {
    "internals": {
     "frag_helper": "fragment_end",
     "frag_number": 91
    },
    "slideshow": {
     "slide_type": "fragment"
    }
   },
   "source": [
    "First of all, this is a regular matrix because $P$ has all strictly positive entries.  So it has a steady-state vector."
   ]
  },
  {
   "cell_type": "markdown",
   "metadata": {
    "internals": {
     "frag_helper": "fragment_end",
     "frag_number": 92
    },
    "slideshow": {
     "slide_type": "fragment"
    }
   },
   "source": [
    "Next, we find the steady state of the system by solving $(P-I){\\bf x} = {\\bf 0}:$\n",
    "\n",
    "$$[P-I\\; {\\bf 0}] = \\left[\\begin{array}{rrrr}-0.30&0.10&0.30&0\\\\0.20&-0.20&0.30&0\\\\0.10&0.10&-0.60&0\\end{array}\\right] \\sim \\left[\\begin{array}{rrrr}1&0&-9/4&0\\\\0&1&-15/4&0\\\\0&0&0&0\\end{array}\\right].$$"
   ]
  },
  {
   "cell_type": "markdown",
   "metadata": {
    "internals": {
     "frag_helper": "fragment_end",
     "frag_number": 93
    },
    "slideshow": {
     "slide_type": "fragment"
    }
   },
   "source": [
    "Thus the general solution of $(P-I){\\bf x} = {\\bf 0}$ is \n",
    "\n",
    "$$x_1 = \\frac{9}{4} x_3, \\;\\;\\; x_2 = \\frac{15}{4} x_3,\\;\\;\\; x_3\\;\\mbox{free.}$$\n",
    "\n",
    "Since $x_3$ is free (there are infinitely many solutions) we can find a solution whose entries sum to 1.   This is:\n",
    "\n",
    "$${\\bf q} \\approx \\left[\\begin{array}{r}.32\\\\.54\\\\.14\\end{array}\\right].$$"
   ]
  },
  {
   "cell_type": "markdown",
   "metadata": {
    "internals": {
     "frag_helper": "fragment_end",
     "frag_number": 94
    },
    "slideshow": {
     "slide_type": "fragment"
    }
   },
   "source": [
    "So we see that in the long run, \n",
    "* about 32% of the jobs will be using the disk, \n",
    "* about 54% will be using the network interface, and \n",
    "* about 14% will be using the CPU."
   ]
  },
  {
   "cell_type": "markdown",
   "metadata": {
    "internals": {
     "frag_helper": "fragment_end",
     "frag_number": 95
    },
    "slideshow": {
     "slide_type": "fragment"
    }
   },
   "source": [
    "Again, the important fact here is that we did not have to concern ourselves with the state in which that the system started. \n",
    "\n",
    "The influence of the starting state is eventually lost!"
   ]
  },
  {
   "cell_type": "markdown",
   "metadata": {
    "internals": {
     "frag_helper": "fragment_end",
     "frag_number": 96
    },
    "slideshow": {
     "slide_type": "fragment"
    }
   },
   "source": [
    "Let's demonstrate that computationally.   Let's say that at the start, all the jobs happened to be using the CPU.  Then:\n",
    "$${\\bf x} = \\left[\\begin{array}{r}0\\\\0\\\\1\\end{array}\\right].$$"
   ]
  },
  {
   "cell_type": "markdown",
   "metadata": {
    "internals": {
     "frag_helper": "fragment_end",
     "frag_number": 97
    },
    "slideshow": {
     "slide_type": "fragment"
    }
   },
   "source": [
    "Then let's look at how the three elements of the ${\\bf x}$ vector evolve with time, by computing $P{\\bf x}$, $P^2{\\bf x}$, $P^3{\\bf x}$, etc."
   ]
  },
  {
   "cell_type": "code",
   "execution_count": 12,
   "metadata": {
    "hide_input": false,
    "internals": {
     "frag_helper": "fragment_end",
     "frag_number": 97
    },
    "slideshow": {
     "slide_type": "-"
    }
   },
   "outputs": [
    {
     "data": {
      "image/png": "[encoded data removed]",
      "text/plain": [
       "<Figure size 432x288 with 3 Axes>"
      ]
     },
     "metadata": {
      "image/png": {
       "height": 280,
       "width": 424
      },
      "needs_background": "light"
     },
     "output_type": "display_data"
    }
   ],
   "source": [
    "#\n",
    "# system definition\n",
    "A = np.array(\n",
    "    [[.7,.1,.3],\n",
    "     [.2,.8,.3],\n",
    "     [.1,.1,.4]])\n",
    "x = np.array([0,0,1])\n",
    "xs = np.zeros((15,3))\n",
    "#\n",
    "# compute 15 steps in the evolution of the system stae\n",
    "for i in range(15):\n",
    "    xs[i] = x\n",
    "    x = A @ x\n",
    "#\n",
    "# plot the results\n",
    "ax = plt.subplot(131)\n",
    "plt.plot(range(15),xs.T[0],'o-')\n",
    "ax.set_ylim([0,1])\n",
    "plt.title(r'$x_1$',size=24)\n",
    "ax = plt.subplot(132)\n",
    "plt.plot(range(15),xs.T[1],'o-')\n",
    "ax.set_ylim([0,1])\n",
    "plt.title(r'$x_2$',size=24)\n",
    "ax = plt.subplot(133)\n",
    "plt.plot(range(15),xs.T[2],'o-')\n",
    "ax.set_ylim([0,1])\n",
    "plt.title(r'$x_3$',size=24)\n",
    "plt.tight_layout()"
   ]
  },
  {
   "cell_type": "markdown",
   "metadata": {
    "internals": {
     "frag_helper": "fragment_end",
     "frag_number": 99
    },
    "slideshow": {
     "slide_type": "fragment"
    }
   },
   "source": [
    "Notice how the system starts in the state $\\left[\\begin{array}{r}0\\\\0\\\\1\\end{array}\\right]$,\n",
    "\n",
    "but quickly (within about 10 steps) reaches the equilibrium state that we predicted: $\\left[\\begin{array}{r}.32\\\\.54\\\\.14\\end{array}\\right].$"
   ]
  },
  {
   "cell_type": "markdown",
   "metadata": {
    "internals": {
     "frag_helper": "fragment_end",
     "frag_number": 100
    },
    "slideshow": {
     "slide_type": "fragment"
    }
   },
   "source": [
    "Now let's compare what happens if the system starts in a different state, say $\\left[\\begin{array}{r}1\\\\0\\\\0\\end{array}\\right]$:"
   ]
  },
  {
   "cell_type": "code",
   "execution_count": 10,
   "metadata": {
    "hide_input": true,
    "internals": {
     "frag_helper": "fragment_end",
     "frag_number": 101
    },
    "slideshow": {
     "slide_type": "fragment"
    }
   },
   "outputs": [
    {
     "data": {
      "image/png": "[encoded data removed]",
      "text/plain": [
       "<Figure size 432x288 with 3 Axes>"
      ]
     },
     "metadata": {
      "image/png": {
       "height": 280,
       "width": 424
      },
      "needs_background": "light"
     },
     "output_type": "display_data"
    }
   ],
   "source": [
    "A = np.array([[.7,.1,.3],[.2,.8,.3],[.1,.1,.4]])\n",
    "x = np.array([1,0,0])\n",
    "ys = np.zeros((15,3))\n",
    "for i in range(15):\n",
    "    ys[i] = x\n",
    "    x = A.dot(x)\n",
    "ax = plt.subplot(131)\n",
    "plt.plot(range(15),xs.T[0],'o-',range(15),ys.T[0],'o-r')\n",
    "ax.set_ylim([0,1])\n",
    "plt.title(r'$x_1$',size=24)\n",
    "ax = plt.subplot(132)\n",
    "plt.plot(range(15),xs.T[1],'o-',range(15),ys.T[1],'o-r')\n",
    "ax.set_ylim([0,1])\n",
    "plt.title(r'$x_2$',size=24)\n",
    "ax = plt.subplot(133)\n",
    "plt.plot(range(15),xs.T[2],'o-',range(15),ys.T[2],'o-r')\n",
    "ax.set_ylim([0,1])\n",
    "plt.title(r'$x_3$',size=24)\n",
    "plt.tight_layout()"
   ]
  },
  {
   "cell_type": "markdown",
   "metadata": {
    "internals": {
     "frag_helper": "fragment_end",
     "frag_number": 102,
     "slide_helper": "subslide_end"
    },
    "slide_helper": "slide_end",
    "slideshow": {
     "slide_type": "fragment"
    }
   },
   "source": [
    "This shows graphically that even though the system started in a very different state, it quickly converges to the steady state regardless of the starting state."
   ]
  },
  {
   "cell_type": "code",
   "execution_count": 11,
   "metadata": {
    "hide_input": true,
    "slideshow": {
     "slide_type": "fragment"
    },
    "tags": [
     "hide-input"
    ]
   },
   "outputs": [
    {
     "data": {
      "image/png": "[encoded data removed]",
      "text/plain": [
       "<Figure size 432x288 with 1 Axes>"
      ]
     },
     "metadata": {
      "image/png": {
       "height": 231,
       "width": 349
      },
      "needs_background": "light"
     },
     "output_type": "display_data"
    }
   ],
   "source": [
    "A = np.array([[.7,.1,.3],[.2,.8,.3],[.1,.1,.4]])\n",
    "x = np.array([[0., 0., 1.], [1., 0., 0.], [0., 1., 0.], [0.5, 0., 0.5], [0., 0.5, 0.5], [0.5, 0.5, 0.]]).T\n",
    "colors = ['r', 'b', 'g', 'y', 'c', 'm']\n",
    "npts = x.shape[1]\n",
    "fig = ut.three_d_figure((11, 1), fig_desc = 'Convergence to Steady State',\n",
    "                        xmin = 0, xmax = 1, ymin = 0, ymax = 1, zmin = 0, zmax = 1, qr = None)\n",
    "for pt in range(npts):\n",
    "    fig.plotPoint(x[0][pt], x[1][pt], x[2][pt], colors[pt])\n",
    "for i in range(10):\n",
    "    xnext = A @ x\n",
    "    for pt in range(npts):\n",
    "        # fig.plotPoint(xnext[0][pt], xnext[1][pt], xnext[2][pt], colors[pt])\n",
    "        fig.plotLine(np.array([[x[0][pt], xnext[0][pt]], [x[1][pt], xnext[1][pt]], [x[2][pt], xnext[2][pt]]]).T, \n",
    "                     colors[pt])\n",
    "    x = xnext\n",
    "fig.text(x[0][0]-0.05, x[1][0], x[2][0]+0.05, 'Steady State', 'Steady State', 16)\n",
    "fig.plotPoint(x[0][0], x[1][0], x[2][0], 'k')\n",
    "fig.ax.view_init(azim=60.0,elev=45.0)\n",
    "fig.save()"
   ]
  },
  {
   "cell_type": "markdown",
   "metadata": {},
   "source": [
    "Although we have been showing each component converging separately, in fact the entire state vector of the system can be thought of as evolving in space.\n",
    "\n",
    "This figure shows the movement of the state vector starting from six different initial conditions, and shows how regardless of the starting state, the eventual state is the same."
   ]
  },
  {
   "cell_type": "markdown",
   "metadata": {
    "slideshow": {
     "slide_type": "slide"
    }
   },
   "source": [
    "### Summary\n",
    "\n",
    "* Many phenomena can be describe using Markov's idea:\n",
    "    * There are \"states\", and\n",
    "    * Transition between states only depends on the current state.\n",
    "* Examples: population movement, jobs in a computer, consonants/vowels in a text...\n",
    "* Such a system can be expressed in terms of a stochastic matrix and a probability vector.\n",
    "* Evolution of the system in time is described by matrix multiplication.\n",
    "* Using linear algebraic tools we can predict the steady state of such a system!"
   ]
  }
 ],
 "metadata": {
  "celltoolbar": "Slideshow",
  "kernelspec": {
   "display_name": "Python 3",
   "language": "python",
   "name": "python3"
  },
  "language_info": {
   "codemirror_mode": {
    "name": "ipython",
    "version": 3
   },
   "file_extension": ".py",
   "mimetype": "text/x-python",
   "name": "python",
   "nbconvert_exporter": "python",
   "pygments_lexer": "ipython3",
   "version": "3.7.7"
  }
 },
 "nbformat": 4,
 "nbformat_minor": 1
}
