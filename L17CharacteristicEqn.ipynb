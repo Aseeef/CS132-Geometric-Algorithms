{
 "cells": [
  {
   "cell_type": "markdown",
   "metadata": {
    "internals": {
     "slide_type": "subslide"
    },
    "slideshow": {
     "slide_type": "slide"
    }
   },
   "source": [
    "# The Characteristic Equation"
   ]
  },
  {
   "cell_type": "code",
   "execution_count": 1,
   "metadata": {
    "internals": {},
    "slideshow": {
     "slide_type": "skip"
    }
   },
   "outputs": [],
   "source": [
    "# for QR codes use inline\n",
    "%matplotlib inline\n",
    "qr_setting = 'url'\n",
    "#\n",
    "# for lecture use notebook\n",
    "# %matplotlib notebook\n",
    "# qr_setting = None\n",
    "#\n",
    "%config InlineBackend.figure_format='retina'\n",
    "# import libraries\n",
    "import numpy as np\n",
    "import matplotlib as mp\n",
    "import pandas as pd\n",
    "import matplotlib.pyplot as plt\n",
    "import laUtilities as ut\n",
    "import slideUtilities as sl\n",
    "import demoUtilities as dm\n",
    "import pandas as pd\n",
    "from importlib import reload\n",
    "from datetime import datetime\n",
    "from IPython.display import Image\n",
    "from IPython.display import display_html\n",
    "from IPython.display import display\n",
    "from IPython.display import Math\n",
    "from IPython.display import Latex\n",
    "from IPython.display import HTML\n",
    "reload(sl)\n",
    "reload(ut);"
   ]
  },
  {
   "cell_type": "markdown",
   "metadata": {
    "internals": {},
    "slideshow": {
     "slide_type": "skip"
    },
    "variables": {
     "\\mathbb{R": "<p><strong>SyntaxError</strong>: unexpected character after line continuation character (<ipython-input-2-26d42e8211cf>, line 1)</p>\n",
     "\\mathbf a": "<p><strong>SyntaxError</strong>: unexpected character after line continuation character (<ipython-input-2-a6a446e024fa>, line 1)</p>\n",
     "\\mathbf b": "<p><strong>SyntaxError</strong>: unexpected character after line continuation character (<ipython-input-2-15d56b6f9af8>, line 1)</p>\n",
     "\\mathbf e": "<p><strong>SyntaxError</strong>: unexpected character after line continuation character (<ipython-input-2-2d0c00f56cfc>, line 1)</p>\n",
     "\\mathbf p": "<p><strong>SyntaxError</strong>: unexpected character after line continuation character (<ipython-input-2-574a3ccf7593>, line 1)</p>\n",
     "\\mathbf u": "<p><strong>SyntaxError</strong>: unexpected character after line continuation character (<ipython-input-2-2645e7979d77>, line 1)</p>\n",
     "\\mathbf v": "<p><strong>SyntaxError</strong>: unexpected character after line continuation character (<ipython-input-2-0802909d0b3d>, line 1)</p>\n",
     "\\mathbf w": "<p><strong>SyntaxError</strong>: unexpected character after line continuation character (<ipython-input-2-da3c1954a9b0>, line 1)</p>\n",
     "\\mathbf x": "<p><strong>SyntaxError</strong>: unexpected character after line continuation character (<ipython-input-2-ab34db0b16f5>, line 1)</p>\n",
     "\\mathbf y": "<p><strong>SyntaxError</strong>: unexpected character after line continuation character (<ipython-input-2-a977bb6e3675>, line 1)</p>\n",
     "\\mathbf z": "<p><strong>SyntaxError</strong>: unexpected character after line continuation character (<ipython-input-2-dc917f61b66e>, line 1)</p>\n",
     "\\mathbf\\beta": "<p><strong>SyntaxError</strong>: unexpected character after line continuation character (<ipython-input-2-498352401d25>, line 1)</p>\n",
     "\\mathcal{B": "<p><strong>SyntaxError</strong>: unexpected character after line continuation character (<ipython-input-2-3c7bf144048a>, line 1)</p>\n",
     "\\operatorname{Col": "<p><strong>SyntaxError</strong>: unexpected character after line continuation character (<ipython-input-2-ac0f89568240>, line 1)</p>\n",
     "\\operatorname{Nul": "<p><strong>SyntaxError</strong>: unexpected character after line continuation character (<ipython-input-2-f385b48d8597>, line 1)</p>\n",
     "\\operatorname{rank": "<p><strong>SyntaxError</strong>: unexpected character after line continuation character (<ipython-input-2-032636eb19d1>, line 1)</p>\n"
    }
   },
   "source": [
    "%Set up useful MathJax (Latex) macros.\n",
    "%See http://docs.mathjax.org/en/latest/tex.html#defining-tex-macros\n",
    "%These are for use in the slideshow\n",
    "$\\newcommand{\\mat}[1]{\\left[\\begin{array}#1\\end{array}\\right]}$\n",
    "$\\newcommand{\\mathbf{x}}{{\\mathbf x}}$\n",
    "$\\newcommand{\\hx}{\\hat{\\mathbf x}}$\n",
    "$\\newcommand{\\vbt}{{\\mathbf\\beta}}$\n",
    "$\\newcommand{\\vy}{{\\mathbf y}}$\n",
    "$\\newcommand{\\vz}{{\\mathbf z}}$\n",
    "$\\newcommand{\\R}{{\\mathbb{R}}}$\n",
    "$\\newcommand{\\vu}{{\\mathbf u}}$\n",
    "$\\newcommand{\\vv}{{\\mathbf v}}$\n",
    "$\\newcommand{\\vw}{{\\mathbf w}}$\n",
    "$\\newcommand{\\col}{{\\operatorname{Col}}}$\n",
    "$\\newcommand{\\nul}{{\\operatorname{Nul}}}$\n",
    "$\\newcommand{\\vb}{{\\mathbf b}}$\n",
    "$\\newcommand{\\va}{{\\mathbf a}}$\n",
    "$\\newcommand{\\ve}{{\\mathbf e}}$\n",
    "$\\newcommand{\\setb}{{\\mathcal{B}}}$\n",
    "$\\newcommand{\\rank}{{\\operatorname{rank}}}$\n",
    "$\\newcommand{\\vp}{{\\mathbf p}}$"
   ]
  },
  {
   "cell_type": "raw",
   "metadata": {
    "internals": {
     "slide_helper": "subslide_end"
    },
    "slide_helper": "slide_end",
    "slideshow": {
     "slide_type": "skip"
    }
   },
   "source": [
    "\\newcommand{\\mat}[1]{\\left[\\begin{array}#1\\end{array}\\right]}\n",
    "\\newcommand{\\mathbf{x}}{{\\mathbf x}}\n",
    "\\newcommand{\\hx}{\\hat{\\mathbf x}}\n",
    "\\newcommand{\\vbt}{{\\mathbf\\beta}}\n",
    "\\newcommand{\\vy}{{\\mathbf y}}\n",
    "\\newcommand{\\vz}{{\\mathbf z}}\n",
    "\\newcommand{\\vb}{{\\mathbf b}}\n",
    "\\newcommand{\\vu}{{\\mathbf u}}\n",
    "\\newcommand{\\vv}{{\\mathbf v}}\n",
    "\\newcommand{\\vw}{{\\mathbf w}}\n",
    "\\newcommand{\\va}{{\\mathbf a}}\n",
    "\\newcommand{\\ve}{{\\mathbf e}}\n",
    "\\newcommand{\\vp}{{\\mathbf p}}\n",
    "\\newcommand{\\R}{{\\mathbb{R}}}\n",
    "\\newcommand{\\col}{{\\operatorname{Col}}}\n",
    "\\newcommand{\\nul}{{\\operatorname{Nul}}}\n",
    "\\newcommand{\\rank}{{\\operatorname{rank}}}\n",
    "\\newcommand{\\setb}{{\\mathcal{B}}}"
   ]
  },
  {
   "cell_type": "markdown",
   "metadata": {
    "slideshow": {
     "slide_type": "slide"
    }
   },
   "source": [
    "We continue our study of _linear dynamical systems_, systems that evolve according to the equation:\n",
    "\n",
    "$$\\mathbf{x}_{k+1} = A\\mathbf{x}_k.$$"
   ]
  },
  {
   "cell_type": "code",
   "execution_count": 4,
   "metadata": {
    "scrolled": true,
    "slideshow": {
     "slide_type": "slide"
    }
   },
   "outputs": [
    {
     "data": {
      "text/html": [
       "<div id=\"4143da10e084edad\"></div>\n",
       "    <script type=\"text/javascript\">\n",
       "        $(function(){\n",
       "            var p = $(\"#4143da10e084edad\");\n",
       "            if (p.length==0) return;\n",
       "\n",
       "            while (!p.hasClass(\"cell\")) {\n",
       "                p=p.parent();\n",
       "\n",
       "                if (p.prop(\"tagName\") ==\"body\") return;\n",
       "            }\n",
       "            var cell = p;\n",
       "            cell.find(\".input\").addClass(\"hide-in-slideshow\")\n",
       "        });\n",
       "    </script>"
      ]
     },
     "metadata": {},
     "output_type": "display_data"
    },
    {
     "name": "stdout",
     "output_type": "stream",
     "text": [
      "A = \n",
      " [[1.1 0. ]\n",
      " [0.  0.9]]\n"
     ]
    },
    {
     "data": {
      "text/html": [
       "<video controls>\n",
       " <source src=\"data:video/x-m4v;base64,AAAAIGZ0eXBpc29tAAACAGlzb21pc28yYXZjMW1wNDEAAAAIZnJlZQAAK4BtZGF0AAACrwYF//+r3EXpvebZSLeWLNgg2SPu73gyNjQgLSBjb3JlIDE0MiByMjQ1NSAwMjFjMGRjIC0gSC4yNjQvTVBFRy00IEFWQyBjb2RlYyAtIENvcHlsZWZ0IDIwMDMtMjAxNCAtIGh0dHA6Ly93d3cudmlkZW9sYW4ub3JnL3gyNjQuaHRtbCAtIG9wdGlvbnM6IGNhYmFjPTEgcmVmPTMgZGVibG9jaz0xOjA6MCBhbmFseXNlPTB4MzoweDExMyBtZT1oZXggc3VibWU9NyBwc3k9MSBwc3lfcmQ9MS4wMDowLjAwIG1peGVkX3JlZj0xIG1lX3JhbmdlPTE2IGNocm9tYV9tZT0xIHRyZWxsaXM9MSA4eDhkY3Q9MSBjcW09MCBkZWFkem9uZT0yMSwxMSBmYXN0X3Bza2lwPTEgY2hyb21hX3FwX29mZnNldD0tMiB0aHJlYWRzPTEyIGxvb2thaGVhZF90aHJlYWRzPTIgc2xpY2VkX3RocmVhZHM9MCBucj0wIGRlY2ltYXRlPTEgaW50ZXJsYWNlZD0wIGJsdXJheV9jb21wYXQ9MCBjb25zdHJhaW5lZF9pbnRyYT0wIGJmcmFtZXM9MyBiX3B5cmFtaWQ9MiBiX2FkYXB0PTEgYl9iaWFzPTAgZGlyZWN0PTEgd2VpZ2h0Yj0xIG9wZW5fZ29wPTAgd2VpZ2h0cD0yIGtleWludD0yNTAga2V5aW50X21pbj0yMCBzY2VuZWN1dD00MCBpbnRyYV9yZWZyZXNoPTAgcmNfbG9va2FoZWFkPTQwIHJjPWNyZiBtYnRyZWU9MSBjcmY9MjMuMCBxY29tcD0wLjYwIHFwbWluPTAgcXBtYXg9NjkgcXBzdGVwPTQgaXBfcmF0aW89MS40MCBhcT0xOjEuMDAAgAAACyJliIQAP//+92ifAptaQ3qA5JXFJdtPgf+rZ3B8j+kDAAADAACurHPopkgYXevGAAJ0exPOIcf+ABLhi99629Ue6aYXQC4k67NiyfaWdiZBRyWSd4lPxm37pI1m+J8lPtuHEEOJK8REv0UhiBsnR29Zeaa65L+x493Vi7J107PtFuNYoCgJ82V93Yb4X95Nw7q4hxTa0aQSeo/9fKOMrwWPSO4xzNaUR8B2vkqnx2lJeQoxVAx4VAytl+IyCBdT3M4A+0zpHuKk74oqTRNz4xcOLDOytoiqefs+IKu9seIfwcpTqc6bWpQCa5eyBWn3s5n497GHQEW5ee/Rux1ah4vsZWljhM1PLnIxlWf+2WCGS0nTs7Rl6PJJbwefmzXWUH0f7dzrRiwutf0MiJYOtRBnXvoickb2Wl6ER3H72n4+4ZHXnRewYzxbq537SJFOSVDM16GHGEWKxWU1vMtfzPLw4mdJ2sWab6avjATPksXUok9BWW9NRHqsS00QAMGoZeZbOOPRYbUdbx7ungVvOCcPRWFAk6EkO1UlR4aANPW7jZVziIC2XdFXDU6c/JFkfyftSThvcsrPa2j5+Dw18QGj93OHCc0eoZlr7IuQj7AuHEtHG6QBIcxcNkE8eXCNDrQXvJsQwF+LN4C5/5S4bwwkfKPo+JmGOQkWwheZAEC6DaMhzrpQp6ryBoY/SKF/GNF9B89I2Y8fpaxf7lqUVWeJMOhL1KXy9waPuGc5rVp+rbEU/5xoCO0tC3PNu41X7b69OATQJyiY1yJUi9xm8rYC4AFDGjkHakC5fmbLAwa8aHJGpyYuSB/w3s72Zpnl8LV157RxkmBDZAD1ZNVziyMkamnttyvnmWlDvX0cGM2fwU7d+6Wr7NsiT6allL1FfDZzsCGsiAPDYkAcMObCc9Du0ucifg9sCDE3SiZV1FJDkiwq9J36/8mYTMigaCSWqwcmle9PTVuDw/XTu1ujAsyTVz8qLA4cUBIE/7PvjsSyL8+1l0WdKa4Q70gEzc/wqezbw7esqJjMx33ywerDtUQM4/vYCnxCiGqu2EZ7hJgeKuFzkrX1ZNv44vy9cxPMDm2BUTcfBs5b9PHfdv50P2RQHu3yXv6C44K2N5208e/jyw7w78+Qt2LYTDpq80/lYrqIR0ZzBOhmRoIvkZgXVnMmCD9TM1QXgh+YO5nZp90Bvu58+7TnZn2WVdQzwXrqoRf/0yOpfDbHx4Roc1dQqZc2eJDe/xRd6Co2Y7foWrfd3TC3X5k5+pHeD/Fgnuueo9GF3rMLNxwR/bq16bEufUmPMG03hSXDFTSHi+0f/HQvFQRMik/PMcUMHk3kD8WeK+b6W3iAAAbpmSUzXYLyYr69StV8qsU7PCLY+OOgdd60LhkWCD5+dmUd351ZeHom2i7juqhoLAiCMuXnRrr0WXwvvj2vmvDxrznMYZnU37kIjk2oNxhZ2XNg7AFAYnXR/i71uUBxFLPlcjPmm53AIDMf490F0BJmeSwWkUPb87WaiMhpsvbhwiEk3DCkbvWpWJvJC2d6UzCk8Jjdi01L8UzATQq2iyYmOGFieoPf7pVgDoyRkz8aCkHWXo7AmzvD5Wt7Cz9dpAAy/qLaK8w2Ydwy8FCnifeCXIF9ufh4UnQPDLppD5q39EG1zD7QlOfs77TT+WeRB3Rt+4b6nBMdeYg5tfPf/5YBLqTKuyceiIHDtHhjJF6Dhd2r8WsKEW2OnKTVinKwMipYQSwe+YTA7KzqR+io0xAnNkSMwqrBqE3KJb9tlCENuZf+L5F1e7wAwqGYDtMk6CCFb8F/Hcv/PGIVW11ivoJcP0pI6e5eIMMsKLfZnIOdWHbeLD/hQTtXAxxXTD+5sxICu8dB9NKXazccMKOBBPR8gEIG1mV5fFe7mf4D58NvOoA3WvbK+QY+ndYGkQaG5MMjuGf//oIDH+6T6a7CS/Mcw+0zFZhzU6uqMEgzXd6mC7gjEKgvYAs8zgwatulfVdFsLd+sp4MU8ilnobJVUw8wAUQXjIq4lfJOtONsXQTqGnvP+ON68WMgbuBQSy9XoqqvUm0C/Bn8cW1iAbmOjEDdnNH79vIlN832JHQk7XOB12J7uBj41LlRfoBYa6mkCBXvvq1ViwKyuuqaexzHBxtDpt3g2dljVPEfCGq3TAZ7qlR6MG+1JNuFns+bNyCBENFQ3/4kD9NmgeiM+SVjoVgUTzt1xo9uuoiIU9+Qc2AbwUKQgy2HCVrbH4z7eGfo/CXtiJe6nYw2+IoxMp4hVZUW312l9fXemIFofqHs2aWeG6Sa2GsBCAx0t6KEkegUdi2T5ZbsOeXFl93PgsoaqyTitlwX30LrvdaaOVKr1M8E9rxcU2EixT5CJ/Zz0N9BLEhxKSggMZqW+O1lYACB41uiReNYAYYHx1OvDZQuaMteQp82Qygg1iTD4mVM6jLmeBushPpLouEU25ixof9aBcT4kQ92e+1txJIu3niFWqWurb3kLGc//oc8u0W9w2xE6JzFxbk6iiecs5I7Vk/JbAHOpGdY8hSp+j1NvOOH5SAg8c6kwpGNWL7MWmBT82sS3e0UV4xs0ZhEZDfmi/LKin6z8EPumQs/dYyDSQScIMBJSIY7U1rsmDyDV8cjXjGjwSiJwJGt2DP6P5Wc3EEY3uaXzZtVlv2YEn/0tYp2szw+jfvUKHSvpRzut8vkAmaFyy3wI3bhkd2q0ly1PXK0CCctSSbuB6YsvvBkdCfN06h8O36UE2ovUFEMqBT0IBsCI5i9VafTE3V+KKNvemNMYlI1Z+E51sfKybEYTqOL6ETduoApvJvzGZTDDxITvvySoqZPHo5Kh8AyBP29E4s5853rtLkJ5XfeF6Y/e+/0JKEmmRHUckDu5xlUHnP17DEy80QuTnfvlBvwf/pGIu4UQ6v/6f/pflCoIVEIM8nvKu5hvDL3Go1MuCYVcQN/kPPxZSidWf/c7EySTClmDR8xOzZsjfEpMWWKxCQlxgoyyAsAFYjUfyzZOnMRHeGlGu6hu0yeF3WvJ73MCGHSTVYVvQnxdLNXIXl/lsOahAOshfFMd1w1KHNHj15mVuCrn2OvKcn6szZJo+U68AEpgizmbRZINaygELJoEko3Q9cwJ5WlPOd7zqQb95yoMj45mwQRHK7ZNzKv5u76J+cf6ie8t8iex0naXD0iilSW+i33kktw7TzsRPy0qPLAIpNa9YrTHZ8yR0pv2xY1zulVTXbhZBhznP/3FJc8ajvqTy49AHETrgye761tRUd3PeRgQUJzvmPkx8qNxk4lmk6GgPyevvksByqcOJCjaVNQpwamomdodTYYSpGmNO6lLpFOSIFaMTe16l8eYxG43p53nzUsGd2ObDt1CJT/rlPLBWVLC65Y4zoZSZPeX0Ah2NrrdrKA3f76n7+VujLQNDBHTxKYBU9N1WGJPYPnwvT+RX4ZgnVggMshEa/H+G2UIV4dYcPz54DR4vLML0L4AuqexMOgDgxIicGhSGN/jXDvZ6FO0JPQ8Qlf2chY5O/xhmK8zvrWLzMfkKE6kFNqAltK8JJkMgYKNp6fQj+EBAzhdQOWTQx9FU0TLifv0hVwpChoJxZCGfCaLRtC/IL+DkkYrNEcZuBOOGuSrL32roTS8H3mmOlKsRRRoh9UDMxllWKEb4Pzg41PUpgeHX9ov55RWax8a84/e3S6TyUoDp28W2U2wH8y1mUS5TpQ52uawGvGRDJpTLwrOOEjaOgbozhtJIiQbjgNQHfCUZFzZxthkHBj0Ok95D1DTJUkVn2XenoovXPGYuAAUsSCENgx0ihJpJEAAAH8QZokbEP//qmWAFTI+XwBiEJ1fPqP8PxMSEzqTyXGOMyuXxiRj8KQ1Qjuf+C3JPr06ErP+0BCISbWIQ7gkWxFCqF6bnxRZxKuknZkv/otCGeMXUh6K+4WGa6g0VtZkoBy8igJe3/9dt4sjXW84ADSWb+ChftF98UvobLoxHaUCsaetm94tcUxa85yRzT7KzfUcm/oz50kDiz5XinDveERHKaqR9TRqVnjGQBoflQqzgwuJADGlCqhu3lPT38i1Rg8GB2XGykvkOeb/lsTJFav0rEDTzbsK5if9+6qLUsau90oG/CALolqrJTw0HdHjFpyXJBTc4xBlNDKDE6npUcbwxWpXWZCTZD8uqt0c/gleaY4XicVcYLvQajZ3FYeyuVo0FZtYOFiDkM+nicL/uIHno6/iWRYKdVYVFpaq7EWbCxoqikXU3BgUmjy9/SJEMngJPYNy2ERT51NIkKnOis9sFF77TNcWXTtLXXkhyTwzj0Fw7w1zYTIUVZMOZI+Wyqg0iN3a0JGutWgr1L+9+yWlbLPzGD7unT5PaYBcKO/vViKITGn44Jmk08+GYaL3g7FVpbDdEul/6HlRshnl1e52oLra/BrW5h0UPfiPBjWWRJnwYa0/QYSCXNcfme0KYcPt6SQXWewVUAnLCx8AnxZUjcg2SZbd8w156qNtAAAAGRBnkJ4hn8AJbFT9orfO4VtGADOl+0wrEjJzrl9UYJEGLkIijeREoS+Bqe+e4s1a7RY98ePlNo0rOpbDBEQDqJJ8T9Fl10mdXGZgW5EfnF2aryHw3prp6CwvjvWDMJ9lm88Pm9BAAAALQGeYXRCvwBFQ6eWbA8TcFwsOnEtXqTUStFpUkqonT2DFFv7jAY/AWvFbgJ56AAAAB8BnmNqQr8AIr01QZ7kC0t0nK6mygL+TKXRqMY11s6xAAAA/kGaaEmoQWiZTAh///6plgAVvs/4AqirrxZz5Wm9S9LtTesD+j5qG6VtiRzLY92pRsFOKXNj/haL8i9k/N9l0ly5X/5RgnFcp6+HW1PhWhS7HjMNpYVelBV1iixFL3oxHCjyJTqLP4nX2Vvr4QCitAS86ciCAGD3lOGVTZOwY8EBSGEpCTwDFaEZ6QrUkINxHnxck1YUkWxFrPlb9y5VFwHVI5m0fNKLD1NFLwIBX6D+ZCteNYkkPQB6NJtnPv/MpawqwZfDJ0kb5z6aeHtaiiFO43eHk9MucHeAz+eLAMB0Anqr7K2pjqXZJX80e/Z12m+ZRlXUV6Vqh2WTA0ELAAAAH0GehkURLDP/ABLYqfwWRWxdKCpQ7gnsPVD2uVHFNqEAAAAaAZ6ldEK/ACKubGxHUE4q8L9c1wJxvFKB1UEAAAATAZ6nakK/ABFRyPdF6oygJQlmngAAAEBBmqxJqEFsmUwIf//+qZYACutn+akAT0/ZfjFVSOeM8ihcDCBMkpjk3mplqVirOiw/VYYBR2bHxDbFgNS7YwjgAAAAF0GeykUVLDP/AAlsVP4KBWFF6meQkGklAAAAEwGe6XRCvwARVzY1rvkmZSd7138AAAAQAZ7rakK/AAivSemcymAG1AAAAExBmvBJqEFsmUwIf//+qZYABXeFP1OEscE7ftAvCX3LSCj8lVSsQdhoJdMAcPG4eJd4Wp3DTXeKm0b8xNsTLU+w+tQVKY/a7kvATuRhAAAAFUGfDkUVLDP/AASzjxMy0/9LufWP8QAAABMBny10Qr8ACKXOmm4mrY1vxCSNAAAAEgGfL2pCvwAIrITzTmzRrYSRgAAAAEpBmzRJqEFsmUwId//+qZYAAretkc4lgCm28wGr1WZnLrxzWPUDmveWc4HqCsoUDIJeINARPkvQkq8CQMzPomPde8n+t6B9u/N2YAAAACVBn1JFFSwz/wACW0h+GuAFk/gJ4a0y1zKsFm0kq92HJwhUxg/xAAAAGAGfcXRCvwAEVieSeAA93cEKJrNgcMgP8AAAABgBn3NqQr8ABFUuspbngAPL2pSMuRFgQwYAAABEQZt4SahBbJlMCHf//qmWAAK6d0OIWYAiO3uBC+aley8unjYG+mAtop1dPcrPPgexNJ9K3o2/xzESG80uDB1CHG9Yb0EAAAATQZ+WRRUsM/8AAlqgoBSZGvRgwAAAAA4Bn7V0Qr8ABFXNjcwUUQAAABkBn7dqQr8ABFniIATKUrTxDilZEW7pQBtRAAAAOUGbuUmoQWyZTAh///6plgACuoB81IAq4BtV8WuKuFLqk1bLFGEjfRj5MVqJVKDLLkdNDcquX3oI/wAAAFdBm91J4QpSZTAh//6plgACuoDKYQBzRVMqaDSOieEKBLz76gFBI0S3vxhi4iPQqKyezyJtUerhEVnC0pV8fwI3d0ta/31K00+CO2YYDSysimJ77Zc86YEAAAAhQZ/7RTRMM/8AAkqoSgnCRwAg/KvRpLPTvW29ShwGRFccAAAADwGeGnRCvwAEN8UWHJ3tTQAAAA0BnhxqQr8ABDdf3TphAAAAPkGaAUmoQWiZTAh///6plgACt9TVADpXYDIxD9PyJGFB/uTIGey646eb8XM6O5gdkgMc+ocMtNlHichOE86YAAAAKEGeP0URLDP/AAJKby41sWAD+eEEbp1rw6wkjJ+kRXQEZVvN4490LUgAAAANAZ5edEK/AAQ10M06YQAAABoBnkBqQr8ABDp9WAEKdkjvvzqwKlMGhtaRgAAAAF9BmkVJqEFsmUwIf//+qZYAAqVnnY2W9LBVABwjuOD62txDpSV/otDdwcfFgR2XQxQy2ayBUXi4X1WKCyBU7hw+9Sfp7Vl6KP+DdOG1FN+Pe80YZz5kxQBY+iWS+djzpwAAACdBnmNFFSwz/wACSlEnJlKAD63lCCfUiDh1WJ4FgGsv8ujO3/nhakAAAAAYAZ6CdEK/AAQ6fVgBCm0Tmnwgfdv2lLaBAAAAGQGehGpCvwAENAvqHZNCP5qAGuSm/dZdooEAAAAzQZqJSahBbJlMCH///qmWAAKmw4y7qQA0yl48/Hs7qZ1KnsIUlnBYMtlUdfbE9X2P8j/BAAAAFEGep0UVLDP/AAJKSHK0ORCZ2zbRAAAADQGexnRCvwAEN8SYVsAAAAASAZ7IakK/AAQ0C8oSPmAissCAAAAAUUGazUmoQWyZTAh///6plgACpsOIAiQAi1552hHvrzq7Gm/QVaoSccWuQDCwZ09+AJRR20uFloJhJXs4HJS0M85pgnZCFcQ0OayT/Oxbs1izjwAAABZBnutFFSwz/wACSxWlrjppTu31BnUwAAAAEgGfCnRCvwAEM+byMA7blqDpIAAAABMBnwxqQr8ABBdAdtFGNUtXLWdTAAAALEGbEUmoQWyZTAh3//6plgAClAi1FbY4ALJQksXUMIa+QLwOCnRJYiDKSnlJAAAAHkGfL0UVLDP/AAI6+MQCAB3OuiZ/3MiPU3GLK8j/wQAAAA8Bn050Qr8ABBWqW4SlIxoAAAAPAZ9QakK/AAQV6hzE4CMaAAAAO0GbVUmoQWyZTAh3//6plgACl8LfZG4HyAGtyHbEGu9fZ8AKOPExylMp+zxjj4IJgmfpABBG7BlqMBatAAAAHUGfc0UVLDP/AAIzy1cq8Y20eOeAC50wHTQzVsq4AAAAEQGfknRCvwAEE+aIvgVU2m/AAAAAEgGflGpCvwAEFkH1Twj++FP7ewAAAIRBm5lJqEFsmUwIb//+p4QABP9/fZG4WpAFo3tJ0fnKoLA5SglRoJReFtS0g8awyHAMJzMFrFJ4AGmdvS+00SxDW0Vd4nUQ2Tommo/S5LcfOiJGKSvv5AMoaWPXfDFgpN/UkB/MoS7l1qnvHz9sfB8bEuvl/xCOeGdu9jMK6Om2zd8D5WAAAAAYQZ+3RRUsM/8AAiPMzKryE3a/n8Fkhb5hAAAAEgGf1nRCvwAD9nBeqIRxtbBtMwAAABMBn9hqQr8AA/gDY8EWIKW6ISdgAAAAL0Gb2kmoQWyZTAhv//6nhAAE1pCSC+e+wMAEhawgv2i1DuL1mfbFCmc+Ihr2cXhBAAAAQ0Gb+0nhClJlMCHf/qmWAAJxPx7/cALaHDWCgkzo7bRGZvyop8X13RbGEK+UGIaVIxrf6QZQTooDeFGX8I8rMagyQYAAAACwQZofSeEOiZTAhv/+p4QABLZN1A2z9QAty1u+xpmhct0uMA/nWGofoLKK7BZXFvY3LZ25wjwLo9R3WIZ0iAJMCgiqlwKVLHWOeEKNxF2022sUSH2ap5My0ltCW5Q5EkDRTauPgkt/wiExKjIR9duQlzesvFPURN+DYbHPg38kxuaLwifrzJtApZaGp5Hm/10uF9eIUQkvTj+fV/Q9Pvn0Y2RS8o8F3KTC5UeSJ6LrbXEAAAAdQZ49RRE8M/8AAgsVoiWnuuwW3tKRjehb9zrxPTEAAAATAZ5cdEK/AAPAsQkte/Ymhx+7oAAAABkBnl5qQr8AA7atAxmKyd7cK8kAFqI7R0x1AAABDEGaQEmoQWiZTAhv//6nhAFbBU3yABc66bAwx3lm2JQ6Kdlrfc7FHB0ESreoVQJjysITOY1EDqIpXPWYKfMKIsvKG44boNdNsEuHQkcIdI3312CwlQlEJ12IgWxakLOCnHuB4fzI1mYWbdjpWHdJJRZx2NqJ26y6+EG53qOOv+74z8fK4+jYOTDyQwbgiF8sOvW5vl5dtq5hZYYIBiAdASaW4ymJ0xex3fIYCLYuvxfUeie3pVNoG/ezHyjLXH6s05U8OB6Nh6lW62aeGkWP6JNiWbUT+lLUDTLa1df4Q07qJ0ghXyrF0HZVLeID8EdLCo5XjkGzRPiw5a14mQ+ihHuMAq5stx3xci5SZg0AAAGhQZphSeEKUmUwIb/+p4QBWwXuCCgBbqJO8cIApV1gR01lN9YPnTh3koTqDizdhBhq0jLldFKvPoxku96FxQs1/V9Tevqc2BjhbK8tuJLjOQ+FpIFe22MDgogQWUcX/p+nZlt2c6uARzIcNWHtcitiBCSWE6qwbcgI0gHnl5rLfGThSR3AdXV8/KJUcmlGPPZSsVSQAVG33rP6G/EKbKwPo2olVf6G1GoYTLP3+VU3fukgXbTamMtf2A4n6TMwRUTh6nvBAmF88yr+jA/YBJJuCRqlIFn+PUGrmzkWJtfIgTsf3WJVDCL6Tm2sKf5tQu9PKJkQzUeGwK/XtHZQ/bCI0ckaijyrXxLMZTDxKpRXK7vtvqbY1PnAnuAUqHLeL9d0eyroNUzzQOdXRhOPR/bLm5xhsa3TlE3Dsf96dN8PybC96WjUgffU2OgEDy2AM7qZPgp/6IftSY7LVWKjQYDc0NudPzvHOgRYh4munscw3MsmDoLt7ArsCXgCunk1tIX/bhvmpq1Jhyw7e0DHNa9AsT5zTjq7Ln0qffs+QGTS1YSAAAABS0GagknhDomUwIb//qeEAWYGK3yABOy9+cAAosilJdYGnWiRqZRev+Qy3nXhvw13bmFpfW4oQq8OK8RKDyalR+bT60QmWYwEgoz1k5kFO53eMX9BMl6rjmsLjT1OHwHramInumbGo/jSHhoQzymiyZUBjub1ES1+/WMYJWoeOgTulaZS6TPhWWHO1RGkXH/Ugc7a+DE+1aLQjYknYTzX9oEOFoXQaiE+XiD61SxvyTBNTH0XGgf3TT4U4Odc6T5uiS7utvnp9jUAEOdt2QODZEF62sU3ugKAN2YykAMptH7ZiV+QzaOfWDBjfNqpSTtXRzfuCT1ELFNJtFni7EAWWjsEMcUnyKzpmNr1d91PpyxpATcVFFR8ewnOKprtkxDI5H36RP/rffeqQqmypydP0lB1aPotRYll9lJLM+4EbjIAWm9yzvqKMku2QkEAAAFOQZqjSeEPJlMCG//+p4QBZgZUelUrPpAAQ4UciqEJhpNlwbPPSH7AfzHKTCfGnbFFkzGPFrMGgiUEwsH6jTiczJ4/5AvLeEDh2ur2FIlEaNqLa5fUbq1voexVvzLGs8jn9+TbP27hdYX7pumVwSnbLvhW1uM4/cfYsjTOFcDmTB6kpdcY33CMCfe5t7dSP7XJTwgoot3BuYYIGBRBo6sGddeYk2lH2kLKxD8AP1VNH8GVAolcAwrR55/2Xore5/Mv/daVrNTtya1DiEiM3hModKULQuznT8nAUSXjKJI0VbV/DFqmrZnm2jhrQYS8KZBU0+S0rPcz8pNYZtvjnTfckqPNq/0YQT1sDFtpbwWKiuo3Kc/jeHhwEVyje95HAkhNruKo24ppx8eJv3LoMMh6F5W9Q4IFuAENTv/WUwa7VXst+4nSPRWj/kWeu0CiLgAAAOlBmsRJ4Q8mUwIZ//6eEAVs53oQgAd1ebM7qtODOl32tA8QYmGhJXDeiyWxuRjNOA0x1k0WM9/Zqvdhhga/BsAu5jH1l9Q87wQFnnsdR6of2RmVxAZksT+dyIXZEg8HXgOtumAhKMlqJcs99uLi/WBdHdtuR/v5ikGpluD4Bk1D40saV8xYivxXxWDtzNDPE4VIDBupKSNMOYiJq8CL7/QDZYTe0jMXt7FEF4XzbUQH7kUzLPwfCKjT114oLt3h2x3SAtJqrOW4T1EwrUCJwn8+SkcVM3+Yv57RG83I3eLSNfwhCmYi9EghmQAAAVJBmuVJ4Q8mUwIZ//6eEAWX1A9YABOUXbVKNz544XJoWq3VolxKKHMez0O8ev8weAy6n3hk7F2J3KnZ18ADE01HXGt+1S6AACHXo+HH6O+3M+CQMumiPubusBHRKgNXM/gfRVn3z81B7Qx6jHfCQ3guLmITH+3I87srYpzDHQFgCK5U5xgnI81PvPkygcRO/43FRt6o5zFLaVZGreCREsxLPVOLtwoO6Sr+B0dOPOHq6dqkeJhXbnyXgTYGmla3b8i7aUFx/ZD6TBqh9Gz4iPSwAYTSrPn/ZCqABlu72FW0djH9+LY0iSR20IOCDtaDqhMYZcEoiJ7GSRarrSWO5JTpZ8m+V6V2Ytp15pXLEdQcdRo10S+Efq9ycsK7KEv9yRYaNc2dVBSguvOw5rmE3nKhcjb3JnzJmuc2tyreXTTq5gsKrkgqO66+NeUrhBarkAaAgQAAAXdBmwZJ4Q8mUwIZ//6eEAXHqBAA3W/Ka/pa1T3FAS3DnTLubyTC8ihANJqfYb5mIoJDDOE05eFy6w7wVhia2I3mEed4KJH7LBxOO+ygpKdZRN6W3AZ9TbBnr3bYknmufNc6fztbZg8Z9OXMr6F3C+LL8Jv28PKLCau3ageniHwkCCJpva5upa6jmkCBNxTLjFnKtJwWgb1gN40DK4InpNsOOhquETfoV5l9GsStHPQ10OeQSrRjZh88uOQHUGuR515y9zUBNeoAvzk0KHp2LK+CMOdIDAGvBhM4WXmP8xXmIwluleqL3UGQKDYxp/i7yQqYM/Cnn21+mZqFfkih+DIOQIhIfm2fRZ29ODdkITVQyevMZQdtcbsD/M85MNGwxsSeUM/tK0z+JYxWXJhQ91gIPVdyYgvFMebMYP9LsitIbqEHO09wfG61/rNtYIgtMdT2DXh02TwAkunRVF22tXSJy2fMjtko+msx2HIRAbzlc89qIqOxK08AAACfQZsnSeEPJlMCFf/+OEAWddqz3M6oCOziYCqgQ9Vb8aVpNlIoTyi9DcSAeh7Zr0BAIUfoAJ7ABrGvYG2iYC1KLsDxHNnjflcVNHtdT5j1Aw/LA8Vyd5sAGLJfEU90mQYmCD7K6ZLLQssLD5sR2EpNPyLojeSwpIGm6jua11IPjI0la2QSk4gmgW9hxYnZSSGRW0NRxUYbQX3ZK6VRKfRhAAACk0GbSEnhDyZTAhX//jhAFmUoQ/YepyKIKg6x/YAbatYUP7fisTWNAlZRoC910Wa+8NA66Cz/cfa796+9AU82sTOmfKv9qZXpLUysptX5nlEB2zOBkbpN11yxhb176o4mTFkCEytBLq7SfIqjlJp62RFHPb2bRquTF8iJ0Qa+kM/tp6KV1lApoZT56WzQITyRzSF5LSoSbqRGv/l4GH3VKWN8jIqzq67yBo/QSateRci/gAXmBLKlfPqigtXIoYE30SDw68swSixFwlgyPvee86GV+p1iHtW9hMxE1dG7vBGLKfP/mkFQi+aF6eM1ahSayJN6AS/WzzM4cOcZjMUO5o8l4bWktOpZh8xqq4vQe2rDYBK/6W0GOY/YLc7anWdr9a0tNtHhrmThXmQGgmL1Ihwbfu5QpHF434+MyCFqlthW/G5amHqy3QZ3F2HDlvigzF22oRmE8FnkTR9HL6udc2y6hN7XKTRBOEP8AEQI8MoF68DeHOp3So3buRLzMsWF9rWEdN+QY7WX8Oo1FyW0toOuiEOQfyTBZw+o+D7DtETJVho8hdYvrj6gRMHCJF143ZHUbfViVEgrAt79uvFbT6ktXuLRjtoCT4uL9WRdN8ZduyNlLoEhkrzD3FAwZtlKGezLnsMD90wUVPw1Ns5gZ53N8ytjPRjRQsrNHf+Dmrmx5pGxlL7XUpTmlM4O1f7xeMS/Gxc74JILDn4lAtjJIMXWJmjZOXwYSAv/N8zvPfif8m81HTzCKmvjbdJgua5hq8J3V37md8v+ZgL4+uuJD8DkZU1cPVYgf9HmCb4gPAxHLHCgsoQCcK5D7LdVSIXLg9HRQAKvd/hPKtI2MAnr6pZkdBZfo+oGUWIVnOQ2viOf+GKAAAACtUGbaUnhDyZTAhX//jhAILiXg/Xl8AHHszhs4DMc0Bee1l/67fhtysPvpbrM+3QekIAjlCCCE2nPy4djoqUhcwaKCz218fNLxZCzBCJ/qrCZ27g42IBUg0RYEn+d1QdPfjB72mtECNrnr5FVgSMl9BKt4DOvgJ8H5qy4O7k2yyRdCHRNWm+PyzzJp+rTvu28q2SuKxb/XRzOVvMjjnNG/ugBCHq+EVDDabysIA6Kf3y32RgQmwgvJenbrDYo2gftZP2ApDf/b1C6Ku6vY7GfVts9mPEnabplzxVS4N7LYRgnQRaMcaqt4ZcPrBMJSf/NSPEcRe9BRssVWjK90OXGnwnkdctVc63ij3OI2y+OOpFgVeCoxKAGMQ+QR5/res+Jaz+2+RdiXJ0gUgq6GYCz32uY5Q8tGlJ2WEGJN5zETuzOOOJ5Ic2lm5Zmt8knWchxcjWJ7h+RzMWUYt/6ZatKWSGsusUjEdTC/zXbLZGqLxJHlm88ZClZqsw2jHAhbAHsH0y7Dpoydc6npPYpGbOdHUcKxke9zZVzS2/phK8SV3Xl8e73U3uI+yCB3Ci9hi988Ae9bjQhXxrQW1KJwQ60SLKTpXXMfLpNRZ8F7weajMBJr7i8OStWpoePHX7gjy98/C57BWROtme2FKGO+60Ch0Et06hWwdO5b9lxGNHYhWnjyFnQituD0yiLYG028GZTg/4QW6hEZ61wKSD095O2uPNKr9zKQ2r0NPrdB9+WTUdulxWvM/OoLJOMsVh87Rq57rQK8Ede3YPeeQzqtHHu/Jb1RxSwTGyc3uS/N58dQLUK7md0bSBZXsgw+mpQE5eu3z72HxT0UxgzucXLnzAZiIc+hm0Q6YTvniCmzP/SX6JQZsQjEOLiaQr7R1MjgEnywWBGmmzjIsFgWspTVazWmZdQ6yhswAAAAXNBm4pJ4Q8mUwIV//44QCBKM2Yr3vw3oATTPW5b6RAtfapiMPNwN6y+tkiI0XruFYKLo3llOEJ+/7zp5Cql4Pb6RLvBwljm4Hjito8oF27MbPPRuUu8o3jOm4L5eA4QVKJduu7ZdJtuQ0yziEkdS2DwWIsyvyOn1bNLxqHINkpfqe5A7+sNWsm/gXbHqds4a41eqcXqxTy9/Rx3Bu1BienB5YkI094G9YNuTJXrUI1F0uX+8QiIhLVQT7Y0YQcMSOg/honvChEC6++hQrlIN1VS6xOA7151oNECsOw3jDL2+QeIOir5tb6x1MNorakFtV7bEuinXWES2vovI4uZCpuTu4N7jpS7c+ivsCJ5BKFL4g33iDU0tvRcLp3lR4lPOTfMnMcqYQb0iHBj8K/DvYiGWmS1ZQEzqDBz6mfFQuYlQx433wye3EdZKQV/eIXbd+Y3i1sJrIf2V74Yo5dmsawJzj8VjruW8tyS8/JarMG6WXPRgQAABj1tb292AAAAbG12aGQAAAAAAAAAAAAAAAAAAAPoAAAOpgABAAABAAAAAAAAAAAAAAAAAQAAAAAAAAAAAAAAAAAAAAEAAAAAAAAAAAAAAAAAAEAAAAAAAAAAAAAAAAAAAAAAAAAAAAAAAAAAAAAAAAACAAAFaHRyYWsAAABcdGtoZAAAAAMAAAAAAAAAAAAAAAEAAAAAAAAOpgAAAAAAAAAAAAAAAAAAAAAAAQAAAAAAAAAAAAAAAAAAAAEAAAAAAAAAAAAAAAAAAEAAAAABsAAAASAAAAAAACRlZHRzAAAAHGVsc3QAAAAAAAAAAQAADqYAAAQAAAEAAAAABOBtZGlhAAAAIG1kaGQAAAAAAAAAAAAAAAAAACgAAACWAFXEAAAAAAAtaGRscgAAAAAAAAAAdmlkZQAAAAAAAAAAAAAAAFZpZGVvSGFuZGxlcgAAAASLbWluZgAAABR2bWhkAAAAAQAAAAAAAAAAAAAAJGRpbmYAAAAcZHJlZgAAAAAAAAABAAAADHVybCAAAAABAAAES3N0YmwAAACXc3RzZAAAAAAAAAABAAAAh2F2YzEAAAAAAAAAAQAAAAAAAAAAAAAAAAAAAAABsAEgAEgAAABIAAAAAAAAAAEAAAAAAAAAAAAAAAAAAAAAAAAAAAAAAAAAAAAAAAAAAAAY//8AAAAxYXZjQwFkABX/4QAYZ2QAFazZQbCWhAAAAwAEAAADAKA8WLZYAQAGaOvjyyLAAAAAGHN0dHMAAAAAAAAAAQAAAEsAAAIAAAAAFHN0c3MAAAAAAAAAAQAAAAEAAAIQY3R0cwAAAAAAAABAAAAAAQAABAAAAAABAAAKAAAAAAEAAAQAAAAAAQAAAAAAAAABAAACAAAAAAEAAAoAAAAAAQAABAAAAAABAAAAAAAAAAEAAAIAAAAAAQAACgAAAAABAAAEAAAAAAEAAAAAAAAAAQAAAgAAAAABAAAKAAAAAAEAAAQAAAAAAQAAAAAAAAABAAACAAAAAAEAAAoAAAAAAQAABAAAAAABAAAAAAAAAAEAAAIAAAAAAQAACgAAAAABAAAEAAAAAAEAAAAAAAAAAQAAAgAAAAABAAAEAAAAAAEAAAoAAAAAAQAABAAAAAABAAAAAAAAAAEAAAIAAAAAAQAACgAAAAABAAAEAAAAAAEAAAAAAAAAAQAAAgAAAAABAAAKAAAAAAEAAAQAAAAAAQAAAAAAAAABAAACAAAAAAEAAAoAAAAAAQAABAAAAAABAAAAAAAAAAEAAAIAAAAAAQAACgAAAAABAAAEAAAAAAEAAAAAAAAAAQAAAgAAAAABAAAKAAAAAAEAAAQAAAAAAQAAAAAAAAABAAACAAAAAAEAAAoAAAAAAQAABAAAAAABAAAAAAAAAAEAAAIAAAAAAQAACgAAAAABAAAEAAAAAAEAAAAAAAAAAQAAAgAAAAACAAAEAAAAAAEAAAoAAAAAAQAABAAAAAABAAAAAAAAAAEAAAIAAAAACwAABAAAAAAcc3RzYwAAAAAAAAABAAAAAQAAAEsAAAABAAABQHN0c3oAAAAAAAAAAAAAAEsAAA3ZAAACAAAAAGgAAAAxAAAAIwAAAQIAAAAjAAAAHgAAABcAAABEAAAAGwAAABcAAAAUAAAAUAAAABkAAAAXAAAAFgAAAE4AAAApAAAAHAAAABwAAABIAAAAFwAAABIAAAAdAAAAPQAAAFsAAAAlAAAAEwAAABEAAABCAAAALAAAABEAAAAeAAAAYwAAACsAAAAcAAAAHQAAADcAAAAYAAAAEQAAABYAAABVAAAAGgAAABYAAAAXAAAAMAAAACIAAAATAAAAEwAAAD8AAAAhAAAAFQAAABYAAACIAAAAHAAAABYAAAAXAAAAMwAAAEcAAAC0AAAAIQAAABcAAAAdAAABEAAAAaUAAAFPAAABUgAAAO0AAAFWAAABewAAAKMAAAKXAAACuQAAAXcAAAAUc3RjbwAAAAAAAAABAAAAMAAAAGF1ZHRhAAAAWW1ldGEAAAAAAAAAIWhkbHIAAAAAAAAAAG1kaXJhcHBsAAAAAAAAAAAAAAAALGlsc3QAAAAkqXRvbwAAABxkYXRhAAAAAQAAAABMYXZmNTYuNC4xMDE=\" type=\"video/mp4\">\n",
       " Your browser does not support the video tag.\n",
       "</video>"
      ],
      "text/plain": [
       "<IPython.core.display.HTML object>"
      ]
     },
     "execution_count": 4,
     "metadata": {},
     "output_type": "execute_result"
    },
    {
     "data": {
      "image/png": "[encoded data removed]",
      "text/plain": [
       "<Figure size 432x288 with 1 Axes>"
      ]
     },
     "metadata": {
      "image/png": {
       "height": 248,
       "width": 383
      },
      "needs_background": "light"
     },
     "output_type": "display_data"
    }
   ],
   "source": [
    "sl.hide_code_in_slideshow()\n",
    "import matplotlib.animation as animation\n",
    "A = np.array([[np.cos(0.1),-np.sin(0.1)],[ np.sin(0.1),np.cos(0.1)]])\n",
    "# A = np.array([[1.1, 0],[0, 0.9]])\n",
    "# A = np.array([[0.8, 0.5],[-0.1, 1.0]])\n",
    "\n",
    "# we are putting x into an array so that it can be read inside the\n",
    "# animate() closure.   Currently can only read env variables in a closure\n",
    "x = [np.array([1,500.])]\n",
    "\n",
    "fig = plt.figure()\n",
    "ax = plt.axes(xlim=(-500,500),ylim=(-500,500))\n",
    "plt.plot(-500, -500,'')\n",
    "plt.plot(500, 500,'')\n",
    "plt.axis('equal')\n",
    "\n",
    "lines = ax.plot([],[],'o-')\n",
    "\n",
    "xvals = []\n",
    "yvals = []\n",
    "\n",
    "# this is the routine that will be called on each timestep\n",
    "def animate(i):\n",
    "    newx = A.dot(x[0])\n",
    "    plt.plot([x[0][0],newx[0]],[x[0][1],newx[1]],'r-')\n",
    "    plt.plot(newx[0],newx[1],'ro')\n",
    "    x[0] = newx\n",
    "    xvals.append(x[0][0])\n",
    "    yvals.append(x[0][1])\n",
    "    lines[0].set_data(xvals,yvals)\n",
    "    fig.canvas.draw()\n",
    "\n",
    "print('A = \\n',A)\n",
    "# instantiate the animator.\n",
    "# we are animating at 3Hz\n",
    "anim = animation.FuncAnimation(fig, animate, \n",
    "                                    frames=75, interval=1000, repeat=False, blit=False)\n",
    "# this function requires ffmpeg to be installed on your system\n",
    "sl.display_animation(anim)"
   ]
  },
  {
   "cell_type": "markdown",
   "metadata": {
    "slideshow": {
     "slide_type": "fragment"
    }
   },
   "source": [
    "In the last lecture we saw that, if we know an eigenvalue $\\lambda$ of a matrix $A,$ then computing the corresponding eigenspace can be done by constructing a basis for $\\nul\\ (A-\\lambda I).$"
   ]
  },
  {
   "cell_type": "markdown",
   "metadata": {
    "slideshow": {
     "slide_type": "fragment"
    }
   },
   "source": [
    "Today we'll discuss how to determine the eigenvalues of a matrix $A$."
   ]
  },
  {
   "cell_type": "markdown",
   "metadata": {
    "slideshow": {
     "slide_type": "fragment"
    }
   },
   "source": [
    "The theory will make use of the _determinant_ of a matrix."
   ]
  },
  {
   "cell_type": "markdown",
   "metadata": {
    "slideshow": {
     "slide_type": "fragment"
    }
   },
   "source": [
    "Let's recall that the determinant of a $2\\times 2$ matrix $A = \\begin{bmatrix}a&b\\\\c&d\\end{bmatrix}$ is $ad-bc.$"
   ]
  },
  {
   "cell_type": "markdown",
   "metadata": {
    "slideshow": {
     "slide_type": "fragment"
    }
   },
   "source": [
    "We also have learned that $A$ is invertible if and only if its determinant is not zero.    (Recall that the inverse of of $A$ is $\\frac{1}{ad-bc}\\begin{bmatrix}d&-b\\\\-c&a\\end{bmatrix}).$"
   ]
  },
  {
   "cell_type": "markdown",
   "metadata": {
    "slideshow": {
     "slide_type": "fragment"
    }
   },
   "source": [
    "Let's use these facts to help us find the eigenvalues of a $2\\times 2$ matrix."
   ]
  },
  {
   "cell_type": "markdown",
   "metadata": {
    "slideshow": {
     "slide_type": "slide"
    }
   },
   "source": [
    "__Example.__  Find the eigenvalues of $A = \\begin{bmatrix}2&3\\\\3&-6\\end{bmatrix}.$"
   ]
  },
  {
   "cell_type": "markdown",
   "metadata": {
    "slideshow": {
     "slide_type": "fragment"
    }
   },
   "source": [
    "__Solution.__  We must find all scalars $\\lambda$ such that the matrix equation\n",
    "\n",
    "$$(A-\\lambda I)\\mathbf{x} = {\\bf 0}$$\n",
    "\n",
    "has a nontrivial solution.   \n",
    "\n",
    "By the Invertible Matrix Theorem, this problem is equivalent to finding all $\\lambda$ such that the matrix $A-\\lambda I$ is _not_ invertible."
   ]
  },
  {
   "cell_type": "markdown",
   "metadata": {
    "slideshow": {
     "slide_type": "fragment"
    }
   },
   "source": [
    "Now,\n",
    "\n",
    "$$ A - \\lambda I = \\begin{bmatrix}2&3\\\\3&-6\\end{bmatrix} - \\begin{bmatrix}\\lambda&0\\\\0&\\lambda\\end{bmatrix} = \\begin{bmatrix}2-\\lambda&3\\\\3&-6-\\lambda\\end{bmatrix}.$$"
   ]
  },
  {
   "cell_type": "markdown",
   "metadata": {
    "slideshow": {
     "slide_type": "fragment"
    }
   },
   "source": [
    "We know that $A$ is not invertible exactly when its determinant is zero.   "
   ]
  },
  {
   "cell_type": "markdown",
   "metadata": {
    "slideshow": {
     "slide_type": "fragment"
    }
   },
   "source": [
    "So the eigenvalues of $A$ are the solutions of the equation\n",
    "\n",
    "$$\\det(A-\\lambda I) = \\det\\begin{bmatrix}2-\\lambda&3\\\\3&-6-\\lambda\\end{bmatrix} = 0.$$"
   ]
  },
  {
   "cell_type": "markdown",
   "metadata": {
    "slideshow": {
     "slide_type": "fragment"
    }
   },
   "source": [
    "Since $\\det\\begin{bmatrix}a&b\\\\c&d\\end{bmatrix} = ad-bc,$ then\n",
    "\n",
    "$$\\det(A-\\lambda I) = (2-\\lambda)(-6-\\lambda)-(3)(3)$$"
   ]
  },
  {
   "cell_type": "markdown",
   "metadata": {
    "slideshow": {
     "slide_type": "fragment"
    }
   },
   "source": [
    "$$ = -12 + 6\\lambda -2\\lambda + \\lambda^2 - 9$$"
   ]
  },
  {
   "cell_type": "markdown",
   "metadata": {
    "slideshow": {
     "slide_type": "fragment"
    }
   },
   "source": [
    "$$= \\lambda^2+4\\lambda-21$$"
   ]
  },
  {
   "cell_type": "markdown",
   "metadata": {
    "slideshow": {
     "slide_type": "fragment"
    }
   },
   "source": [
    "$$=(\\lambda-3)(\\lambda + 7)$$"
   ]
  },
  {
   "cell_type": "markdown",
   "metadata": {
    "collapsed": true,
    "slideshow": {
     "slide_type": "fragment"
    }
   },
   "source": [
    "If $\\det(A-\\lambda I) = 0,$ then $\\lambda = 3$ or $\\lambda = 7.$  So the eigenvalues of $A$ are $3$ and $-7$."
   ]
  },
  {
   "cell_type": "markdown",
   "metadata": {
    "slideshow": {
     "slide_type": "slide"
    }
   },
   "source": [
    "## Question Time! Q17.1"
   ]
  },
  {
   "cell_type": "markdown",
   "metadata": {
    "slideshow": {
     "slide_type": "slide"
    }
   },
   "source": [
    "The same idea works for $n\\times n$ matrices -- but, for that, we need to define a _determinant_ for larger matrices."
   ]
  },
  {
   "cell_type": "markdown",
   "metadata": {
    "slideshow": {
     "slide_type": "fragment"
    }
   },
   "source": [
    "__Determinants.__\n",
    "\n",
    "Previously, we've defined a determinant for a $2\\times 2$ matrix.   "
   ]
  },
  {
   "cell_type": "markdown",
   "metadata": {
    "slideshow": {
     "slide_type": "fragment"
    }
   },
   "source": [
    "To find eigenvalues for larger matrices, we need to define the determinant for any sized (ie, $n\\times n$) matrix."
   ]
  },
  {
   "cell_type": "markdown",
   "metadata": {
    "slideshow": {
     "slide_type": "fragment"
    }
   },
   "source": [
    "__Definition.__   Let $A$ be an $n\\times n$ matrix, and let $U$ be any echelon form obtained from $A$ by row replacements and row interchanges (no row scalings), and let $r$ be the number of such row interchanges."
   ]
  },
  {
   "cell_type": "markdown",
   "metadata": {
    "slideshow": {
     "slide_type": "fragment"
    }
   },
   "source": [
    "Then the __determinant__ of $A$, written as $\\det A$, is $(-1)^r$ times the product of the diagonal entries $u_{11},\\dots,u_{nn}$ in $U$."
   ]
  },
  {
   "cell_type": "markdown",
   "metadata": {
    "slideshow": {
     "slide_type": "fragment"
    }
   },
   "source": [
    "If $A$ is invertible, then $u_{11},\\dots,u_{nn}$ are all _pivots_.  "
   ]
  },
  {
   "cell_type": "markdown",
   "metadata": {
    "slideshow": {
     "slide_type": "fragment"
    }
   },
   "source": [
    "If $A$ is not invertible, then at least one diagonal entry is zero, and so the product $u_{11} \\dots u_{nn}$ is zero."
   ]
  },
  {
   "cell_type": "markdown",
   "metadata": {
    "slideshow": {
     "slide_type": "fragment"
    }
   },
   "source": [
    "In other words:\n",
    "\n",
    "$$\\det\\ A = \\left\\{\\begin{array}{ll}(-1)^r\\cdot\\left(\\mbox{product of pivots in $U$}\\right),&\\mbox{when $A$ is invertible}\\\\\n",
    "0,&\\mbox{when $A$ is not invertible}\\end{array}\\right.$$"
   ]
  },
  {
   "cell_type": "markdown",
   "metadata": {
    "slideshow": {
     "slide_type": "fragment"
    }
   },
   "source": [
    "__Example.__  Compute $\\det A$ for $A = \\begin{bmatrix}1&5&0\\\\2&4&-1\\\\0&-2&0\\end{bmatrix}.$"
   ]
  },
  {
   "cell_type": "markdown",
   "metadata": {
    "slideshow": {
     "slide_type": "fragment"
    }
   },
   "source": [
    "__Solution.__  The following row reduction uses __one__ row interchange:\n",
    "\n",
    "$$A \\sim \\begin{bmatrix}1&5&0\\\\0&-6&-1\\\\0&-2&0\\end{bmatrix} \\sim \\begin{bmatrix}1&5&0\\\\0&-2&0\\\\0&-6&-1\\end{bmatrix} \\sim \\begin{bmatrix}1&5&0\\\\0&-2&0\\\\0&0&-1\\end{bmatrix}.$$"
   ]
  },
  {
   "cell_type": "markdown",
   "metadata": {
    "slideshow": {
     "slide_type": "fragment"
    }
   },
   "source": [
    "So $\\det A$ equals $(-1)^1(1)(-2)(-1) = (-2).$  "
   ]
  },
  {
   "cell_type": "markdown",
   "metadata": {
    "slideshow": {
     "slide_type": "fragment"
    }
   },
   "source": [
    "The remarkable thing is that __any other__ way of computing the echelon form gives the same determinant.  For example,  this row reduction does not use a row interchange:\n",
    "\n",
    "$$A \\sim \\begin{bmatrix}1&5&0\\\\0&-6&-1\\\\0&-2&0\\end{bmatrix} \\sim \\begin{bmatrix}1&5&0\\\\0&-6&-1\\\\0&0&1/3\\end{bmatrix}.$$"
   ]
  },
  {
   "cell_type": "markdown",
   "metadata": {
    "slideshow": {
     "slide_type": "fragment"
    }
   },
   "source": [
    "Using this echelon form to compute the determinant yields $(-1)^0(1)(-6)(1/3) = -2,$ the same as before."
   ]
  },
  {
   "cell_type": "markdown",
   "metadata": {
    "slideshow": {
     "slide_type": "slide"
    }
   },
   "source": [
    "## Question Time! Q17.2"
   ]
  },
  {
   "cell_type": "markdown",
   "metadata": {
    "slideshow": {
     "slide_type": "slide"
    }
   },
   "source": [
    "__Invertibility.__"
   ]
  },
  {
   "cell_type": "markdown",
   "metadata": {
    "slideshow": {
     "slide_type": "fragment"
    }
   },
   "source": [
    "The formula for the determinant shows that $A$ is invertible if and only if $\\det A$ is nonzero.   "
   ]
  },
  {
   "cell_type": "markdown",
   "metadata": {
    "slideshow": {
     "slide_type": "fragment"
    }
   },
   "source": [
    "We have __yet another__ part to add to the Invertible Matrix Theorem:"
   ]
  },
  {
   "cell_type": "markdown",
   "metadata": {
    "slideshow": {
     "slide_type": "fragment"
    }
   },
   "source": [
    "Let $A$ be an $n\\times n$ matrix.   Then $A$ is invertible if and only if:\n",
    "\n",
    "1. The number 0 is _not_ an eigenvalue of $A$.\n",
    "2. The determinant of $A$ is _not_ zero."
   ]
  },
  {
   "cell_type": "markdown",
   "metadata": {
    "slideshow": {
     "slide_type": "fragment"
    }
   },
   "source": [
    "Some facts about determinants (proved in the book):\n",
    "\n",
    "1. $\\det AB = (\\det A) (\\det B).$\n",
    "1. $\\det A^T = \\det A.$\n",
    "1. If $A$ is triangular, then $\\det A$ is the product of the entries on the main diagonal of $A$."
   ]
  },
  {
   "cell_type": "markdown",
   "metadata": {
    "slideshow": {
     "slide_type": "slide"
    }
   },
   "source": [
    "## The Characteristic Equation"
   ]
  },
  {
   "cell_type": "markdown",
   "metadata": {
    "slideshow": {
     "slide_type": "fragment"
    }
   },
   "source": [
    "So, $A$ is invertible if and only if $\\det A$ is not zero."
   ]
  },
  {
   "cell_type": "markdown",
   "metadata": {
    "slideshow": {
     "slide_type": "fragment"
    }
   },
   "source": [
    "To return to the question of how to compute eigenvalues of $A,$ recall that $\\lambda$ is an eigenvalue if and only if $(A-\\lambda I)$ is _not_ invertible."
   ]
  },
  {
   "cell_type": "markdown",
   "metadata": {
    "slideshow": {
     "slide_type": "fragment"
    }
   },
   "source": [
    "We capture this fact using the __characteristic equation:__\n",
    "\n",
    "$$\\det(A-\\lambda I) = 0.$$"
   ]
  },
  {
   "cell_type": "markdown",
   "metadata": {
    "slideshow": {
     "slide_type": "fragment"
    }
   },
   "source": [
    "We can conclude that $\\lambda$ is an eigenvalue of an $n\\times n$ matrix $A$ if and only if $\\lambda$ satisfies the characteristic equation $\\det(A-\\lambda I) = 0.$"
   ]
  },
  {
   "cell_type": "markdown",
   "metadata": {
    "slideshow": {
     "slide_type": "fragment"
    }
   },
   "source": [
    "__Example.__  Find the characteristic equation of \n",
    "\n",
    "$$A = \\begin{bmatrix}5&-2&6&-1\\\\0&3&-8&0\\\\0&0&5&4\\\\0&0&0&1\\end{bmatrix}$$"
   ]
  },
  {
   "cell_type": "markdown",
   "metadata": {
    "slideshow": {
     "slide_type": "fragment"
    }
   },
   "source": [
    "__Solution.__  Form $A - \\lambda I,$ and note that $\\det A$ is the product of the entries on the diagonal of $A,$ if $A$ is triangular."
   ]
  },
  {
   "cell_type": "markdown",
   "metadata": {
    "slideshow": {
     "slide_type": "fragment"
    }
   },
   "source": [
    "$$\\det(A-\\lambda I) = \\det\\begin{bmatrix}5-\\lambda&-2&6&-1\\\\0&3-\\lambda&-8&0\\\\0&0&5-\\lambda&4\\\\0&0&0&1-\\lambda\\end{bmatrix}$$"
   ]
  },
  {
   "cell_type": "markdown",
   "metadata": {
    "slideshow": {
     "slide_type": "fragment"
    }
   },
   "source": [
    "$$=(5-\\lambda)(3-\\lambda)(5-\\lambda)(1-\\lambda).$$"
   ]
  },
  {
   "cell_type": "markdown",
   "metadata": {
    "slideshow": {
     "slide_type": "fragment"
    }
   },
   "source": [
    "So the characteristic equation is:\n",
    "\n",
    "$$(\\lambda-5)^2(\\lambda-3)(\\lambda-1) = 0.$$"
   ]
  },
  {
   "cell_type": "markdown",
   "metadata": {
    "slideshow": {
     "slide_type": "fragment"
    }
   },
   "source": [
    "Expanding this out we get:\n",
    "\n",
    "$$\\lambda^4 - 14\\lambda^3 + 68 \\lambda^2 - 130\\lambda + 75 = 0.$$"
   ]
  },
  {
   "cell_type": "markdown",
   "metadata": {
    "slideshow": {
     "slide_type": "fragment"
    }
   },
   "source": [
    "Notice that, once again, $\\det(A-\\lambda I)$ is a polynomial in $\\lambda$."
   ]
  },
  {
   "cell_type": "markdown",
   "metadata": {
    "slideshow": {
     "slide_type": "fragment"
    }
   },
   "source": [
    "In fact, for any $n\\times n$ matrix, $\\det(A-\\lambda I)$ is a polynomial of degree $n$, called the __characteristic polynomial__ of $A$."
   ]
  },
  {
   "cell_type": "markdown",
   "metadata": {
    "slideshow": {
     "slide_type": "fragment"
    }
   },
   "source": [
    "We say that the eigenvalue 5 in this example has __multiplicity__ 2, because $(\\lambda -5)$ occures two times as a factor of the characteristic polynomial.   In general, the mutiplicity fo an eigenvalue $\\lambda$ is its multiplicity as a root of the characteristic equation."
   ]
  },
  {
   "cell_type": "markdown",
   "metadata": {
    "slideshow": {
     "slide_type": "slide"
    }
   },
   "source": [
    "__Example.__  The characteristic polynomial of a $6\\times 6$ matrix is $\\lambda^6 - 4\\lambda^5 - 12\\lambda^4.$  Find the eigenvalues and their multiplicity."
   ]
  },
  {
   "cell_type": "markdown",
   "metadata": {
    "slideshow": {
     "slide_type": "fragment"
    }
   },
   "source": [
    "__Solution__  Factor the polynomial\n",
    "\n",
    "$$\\lambda^6 - 4\\lambda^5 - 12\\lambda^4 = \\lambda^4(\\lambda^2-4\\lambda-12) = \\lambda^4(\\lambda-6)(\\lambda+2)$$\n",
    "\n",
    "So the eigenvalues are 0 (with multiplicity 4), 6, and -2."
   ]
  },
  {
   "cell_type": "markdown",
   "metadata": {
    "slideshow": {
     "slide_type": "fragment"
    }
   },
   "source": [
    "Since the characteristic polynomial for an $n\\times n$ matrix has degree $n,$ the equation has $n$ roots, counting multiplicities -- provided complex numbers are allowed."
   ]
  },
  {
   "cell_type": "markdown",
   "metadata": {
    "slideshow": {
     "slide_type": "fragment"
    }
   },
   "source": [
    "Note that even for a real matrix, eigenvalues may sometimes be complex."
   ]
  },
  {
   "cell_type": "markdown",
   "metadata": {
    "slideshow": {
     "slide_type": "fragment"
    }
   },
   "source": [
    "__Practical Issues.__\n",
    "\n",
    "These facts show that there is, in principle, a way to find eigenvalues of any matrix.   However, you need not compute eigenvalues for matrices larger than $2\\times 2$ by hand.   For any matrix $3\\times 3$ or larger, you should use a computer."
   ]
  },
  {
   "cell_type": "markdown",
   "metadata": {
    "slideshow": {
     "slide_type": "slide"
    }
   },
   "source": [
    "## Similarity\n",
    "\n",
    "An important concept for things that come later is the notion of __similar__ matrices."
   ]
  },
  {
   "cell_type": "markdown",
   "metadata": {
    "slideshow": {
     "slide_type": "fragment"
    }
   },
   "source": [
    "__Definition.__ If $A$ and $B$ are $n\\times n$ matrices, then $A$ __is similar to__ $B$ if there is an invertible matrix $P$ sch that $P^{-1}AP = B,$ or, equivalently, $A = PBP^{-1}.$ "
   ]
  },
  {
   "cell_type": "markdown",
   "metadata": {
    "slideshow": {
     "slide_type": "fragment"
    }
   },
   "source": [
    " Similarity is symmetric, so if $A$ is similar to $B$, then $B$ is similar to $A$.  Hence we just say that $A$ and $B$ __are similar.__\n",
    " \n",
    "Changing $A$ into $B$ is called a __similarity transformation.__"
   ]
  },
  {
   "cell_type": "markdown",
   "metadata": {
    "slideshow": {
     "slide_type": "fragment"
    }
   },
   "source": [
    "An important way to think of similarity between $A$ and $B$ is that they __have the same eigenvalues.__"
   ]
  },
  {
   "cell_type": "markdown",
   "metadata": {
    "slideshow": {
     "slide_type": "fragment"
    }
   },
   "source": [
    "__Theorem.__  IF $n\\times n$ matrices $A$ and $B$ are similar, then they have the same characteristic polynomial, and hence the same eigenvalues (with the same multiplicities.)"
   ]
  },
  {
   "cell_type": "markdown",
   "metadata": {
    "slideshow": {
     "slide_type": "fragment"
    }
   },
   "source": [
    "__Proof.__  If $B = P^{-1}AP,$ then\n",
    "\n",
    "$$B - \\lambda I = P^{-1}AP - \\lambda P^{-1}P$$"
   ]
  },
  {
   "cell_type": "markdown",
   "metadata": {
    "slideshow": {
     "slide_type": "fragment"
    }
   },
   "source": [
    "$$ = P^{-1}(AP-\\lambda P)$$"
   ]
  },
  {
   "cell_type": "markdown",
   "metadata": {
    "slideshow": {
     "slide_type": "fragment"
    }
   },
   "source": [
    "$$ = P^{-1}(A-\\lambda I)P$$"
   ]
  },
  {
   "cell_type": "markdown",
   "metadata": {
    "slideshow": {
     "slide_type": "fragment"
    }
   },
   "source": [
    "Now let's construct the characteristic polynomial by taking the determinant:\n",
    "\n",
    "$$\\det(B-\\lambda I) = \\det[P^{-1}(A-\\lambda I)P]$$"
   ]
  },
  {
   "cell_type": "markdown",
   "metadata": {
    "slideshow": {
     "slide_type": "fragment"
    }
   },
   "source": [
    "Using the properties of determinants we discussed earlier, we compute:\n",
    "\n",
    "$$ = \\det(P^{-1})\\cdot\\det(A-\\lambda I)\\cdot\\det(P).$$"
   ]
  },
  {
   "cell_type": "markdown",
   "metadata": {
    "slideshow": {
     "slide_type": "fragment"
    }
   },
   "source": [
    "Since $\\det(P^{-1})\\cdot\\det(P) = \\det(P^{-1}P) = \\det I = 1,$ we can see that \n",
    "\n",
    "$$\\det(B-\\lambda I) = \\det(A - \\lambda I).$$"
   ]
  },
  {
   "cell_type": "markdown",
   "metadata": {
    "slideshow": {
     "slide_type": "slide"
    }
   },
   "source": [
    "## Question Time! Q17.3"
   ]
  },
  {
   "cell_type": "markdown",
   "metadata": {
    "slideshow": {
     "slide_type": "slide"
    }
   },
   "source": [
    "## Markov Chains\n",
    "\n",
    "Let's return to the problem of solving a Markov Chain.  "
   ]
  },
  {
   "cell_type": "markdown",
   "metadata": {
    "slideshow": {
     "slide_type": "fragment"
    }
   },
   "source": [
    "At this point, we can place the theory of Markov Chains into the broader context of eigenvalues and eigenvectors."
   ]
  },
  {
   "cell_type": "markdown",
   "metadata": {
    "slideshow": {
     "slide_type": "fragment"
    }
   },
   "source": [
    "__Theorem.__ The largest eigenvalue of a Markov Chain is 1."
   ]
  },
  {
   "cell_type": "markdown",
   "metadata": {
    "slideshow": {
     "slide_type": "fragment"
    }
   },
   "source": [
    "__Proof.__ It is obvious that 1 is an eigenvalue of a Markov chain since we know that every Markov Chain $A$ has a steady-state vector $\\mathbf{v}$ such that $A\\mathbf{v} = \\mathbf{v}.$|"
   ]
  },
  {
   "cell_type": "markdown",
   "metadata": {
    "slideshow": {
     "slide_type": "fragment"
    }
   },
   "source": [
    "To prove that 1 is the largest eigenvalue, recall that each column of a Markov Chain sums to 1. "
   ]
  },
  {
   "cell_type": "markdown",
   "metadata": {
    "slideshow": {
     "slide_type": "fragment"
    },
    "variables": {
     "ccc}a_{11}&amp;\\dots &amp;a_{1n}\\\\\\vdots&amp;\\ddots&amp;\\vdots\\\\a_{n1}&amp;\\dots&amp;a_{nn": "<p><strong>SyntaxError</strong>: invalid syntax (<ipython-input-3-62ffc1f8d359>, line 1)</p>\n"
    }
   },
   "source": [
    "Then, consider the sum of the values in the vector $A\\mathbf{x}$.\n",
    "\n",
    "$$A\\mathbf{x} = \\begin{bmatrix}a_{11\\end{bmatrix}&\\dots &a_{1n}\\\\\\vdots&\\ddots&\\vdots\\\\a_{n1}&\\dots&a_{nn}}\\begin{bmatrix}x_1\\\\\\vdots\\\\x_n\\end{bmatrix} = \\begin{bmatrix}a_{11\\end{bmatrix}x_1 + \\dots + a_{1n}x_n\\\\\\vdots\\\\ a_{n1}x_1 + \\dots + a_{nn}x_n}.$$"
   ]
  },
  {
   "cell_type": "markdown",
   "metadata": {
    "slideshow": {
     "slide_type": "fragment"
    }
   },
   "source": [
    "Let's just sum the first terms in each component of $A\\mathbf{x}$: \n",
    "\n",
    "$$ a_{11}x_1 + a_{21}x_1 + \\dots + a_{n1}x_1 = x_1 \\sum_i a_{i1} = x_1. $$"
   ]
  },
  {
   "cell_type": "markdown",
   "metadata": {
    "slideshow": {
     "slide_type": "fragment"
    }
   },
   "source": [
    "So we can see that the sum of all terms in $A\\mathbf{x}$ is equal to $x_1 + x_2 + \\dots + x_n$ -- i.e., the sum of all terms in $\\mathbf{x}$.  \n",
    "\n",
    "So there can be no $\\lambda > 1$ such that $A\\mathbf{x} = \\lambda \\mathbf{x}.$"
   ]
  },
  {
   "cell_type": "markdown",
   "metadata": {
    "slideshow": {
     "slide_type": "slide"
    }
   },
   "source": [
    "__A complete solution for the evolution of a Markov Chain.__"
   ]
  },
  {
   "cell_type": "markdown",
   "metadata": {
    "slideshow": {
     "slide_type": "fragment"
    }
   },
   "source": [
    "Previously, we were only able to ask about the \"eventual\" steady state of a Markov Chain.  \n",
    "\n",
    "But a crucial question is: __how long does it take__ for a particular Markov Chain to reach steady state from some initial starting condition?"
   ]
  },
  {
   "cell_type": "markdown",
   "metadata": {
    "slideshow": {
     "slide_type": "fragment"
    }
   },
   "source": [
    "Let's use an example: we previously studied the Markov Chain defined by $A = \\begin{bmatrix}0.95&0.03\\\\0.05&0.97\\end{bmatrix}.$  "
   ]
  },
  {
   "cell_type": "markdown",
   "metadata": {
    "slideshow": {
     "slide_type": "fragment"
    }
   },
   "source": [
    "Let's ask how long until it reaches steady state, from the starting point defined as $\\mathbf{x}_0 = \\begin{bmatrix}0.6\\\\0.4\\end{bmatrix}.$"
   ]
  },
  {
   "cell_type": "markdown",
   "metadata": {
    "slideshow": {
     "slide_type": "fragment"
    }
   },
   "source": [
    "Using the methods we studied today, we can find the characteristic equation:\n",
    "    \n",
    "$$\\lambda^2 -1.92\\lambda +0.92 $$"
   ]
  },
  {
   "cell_type": "markdown",
   "metadata": {
    "slideshow": {
     "slide_type": "fragment"
    }
   },
   "source": [
    "Using the quadratic formula, we find the roots of this equation to be 1 and 0.92.  (Note that, as expected, 1 is the largest eigenvalue.)"
   ]
  },
  {
   "cell_type": "markdown",
   "metadata": {
    "slideshow": {
     "slide_type": "fragment"
    }
   },
   "source": [
    "Next, using the methods in the previous lecture, we find a basis for each eigenspace of $A$ (each nullspace of $A-\\lambda I$).  \n",
    "\n",
    "For $\\lambda = 1$, a corresponding eigenvector is $\\mathbf{v}_1 = \\begin{bmatrix}3\\\\5\\end{bmatrix}.$\n",
    "\n",
    "For $\\lambda = 0.92$, a corresponding eigenvector is $\\mathbf{v}_2 = \\begin{bmatrix}1\\\\-1\\end{bmatrix}.$"
   ]
  },
  {
   "cell_type": "markdown",
   "metadata": {
    "slideshow": {
     "slide_type": "fragment"
    }
   },
   "source": [
    "Next, we write $\\mathbf{x}_0$ as a linear combination of $\\mathbf{v}_1$ and $\\mathbf{v}_2.$  This can be done because $\\{\\mathbf{v}_1,\\mathbf{v}_2\\}$ is obviously a basis for $\\R^2.$"
   ]
  },
  {
   "cell_type": "markdown",
   "metadata": {
    "slideshow": {
     "slide_type": "fragment"
    }
   },
   "source": [
    "To write $\\mathbf{x}_0$ this way, we want to solve the vector equation \n",
    "\n",
    "$$c_1\\mathbf{v}_1 + c_2\\mathbf{v}_2 = \\mathbf{x}_0$$\n",
    "\n",
    "In other words:\n",
    "\n",
    "$$[\\mathbf{v}_1\\;\\mathbf{v}_2]\\begin{bmatrix}c_1\\\\c_2\\end{bmatrix} = \\mathbf{x}_0.$$"
   ]
  },
  {
   "cell_type": "markdown",
   "metadata": {
    "slideshow": {
     "slide_type": "fragment"
    }
   },
   "source": [
    "The matrix $[\\mathbf{v}_1\\;\\mathbf{v}_2]$ is invertible, so, \n",
    "\n",
    "$$\\begin{bmatrix}c_1\\\\c_2\\end{bmatrix} = [\\mathbf{v}_1\\;\\mathbf{v}_2]^{-1} \\mathbf{x}_0 = \\begin{bmatrix}3&1\\\\5&-1\\end{bmatrix}^{-1}\\mat{{r}0.6\\\\0.4}.$$"
   ]
  },
  {
   "cell_type": "markdown",
   "metadata": {
    "slideshow": {
     "slide_type": "fragment"
    }
   },
   "source": [
    "$$ = \\frac{1}{-8}\\begin{bmatrix}-1&-1\\\\-5&3\\end{bmatrix}\\begin{bmatrix}0.6\\\\0.4\\end{bmatrix} = \\begin{bmatrix}0.125\\\\0.225\\end{bmatrix}.$$"
   ]
  },
  {
   "cell_type": "markdown",
   "metadata": {
    "slideshow": {
     "slide_type": "fragment"
    }
   },
   "source": [
    "So, now we can put it all together.\n",
    "\n",
    "Let's compute each $\\mathbf{x}_k$:\n",
    "\n",
    "$$\\mathbf{x}_1 = A\\mathbf{x}_0 = c_1A\\mathbf{v}_1 + c_2A\\mathbf{v}_2$$"
   ]
  },
  {
   "cell_type": "markdown",
   "metadata": {
    "slideshow": {
     "slide_type": "fragment"
    }
   },
   "source": [
    "$$ = c_1\\mathbf{v}_1 + c_2(0.92)\\mathbf{v}_2.$$"
   ]
  },
  {
   "cell_type": "markdown",
   "metadata": {
    "slideshow": {
     "slide_type": "fragment"
    }
   },
   "source": [
    "Now note the power of the eigenvalue approach:\n",
    "\n",
    "$$\\mathbf{x}_2 = A\\mathbf{x}_1 = c_1A\\mathbf{v}_1 + c_2(0.92)A\\mathbf{v}_2$$"
   ]
  },
  {
   "cell_type": "markdown",
   "metadata": {
    "slideshow": {
     "slide_type": "fragment"
    }
   },
   "source": [
    "$$=c_1\\mathbf{v}_2 + c_2(0.92)^2\\mathbf{v}_2.$$"
   ]
  },
  {
   "cell_type": "markdown",
   "metadata": {
    "slideshow": {
     "slide_type": "fragment"
    }
   },
   "source": [
    "And so in general:\n",
    "$$\\mathbf{x}_k = c_1\\mathbf{v}_1 + c_2(0.92)^k\\mathbf{v}_2\\;\\;\\;(k = 0, 1, 2, \\dots)$$"
   ]
  },
  {
   "cell_type": "markdown",
   "metadata": {
    "slideshow": {
     "slide_type": "fragment"
    }
   },
   "source": [
    "And using the $c_1$ and $c_2$ and $\\mathbf{v}_1,$ $\\mathbf{v}_2$ we computed above:"
   ]
  },
  {
   "cell_type": "markdown",
   "metadata": {
    "slideshow": {
     "slide_type": "fragment"
    }
   },
   "source": [
    "$$\\mathbf{x}_k = 0.125\\begin{bmatrix}3\\\\5\\end{bmatrix} + 0.225(0.92)^k\\begin{bmatrix}1\\\\-1\\end{bmatrix}\\;\\;\\;(k = 0, 1, 2, \\dots)$$"
   ]
  },
  {
   "cell_type": "markdown",
   "metadata": {
    "slideshow": {
     "slide_type": "fragment"
    }
   },
   "source": [
    "This explicit formula for $\\mathbf{x}_k$ gives the solution of the Markov Chain $\\mathbf{x}_{k+1} = A\\mathbf{x}_k$ starting from the initial state $\\mathbf{x}_0$."
   ]
  },
  {
   "cell_type": "markdown",
   "metadata": {
    "slideshow": {
     "slide_type": "fragment"
    }
   },
   "source": [
    "As $k\\rightarrow\\infty$, $(0.92)^k\\rightarrow0$.  "
   ]
  },
  {
   "cell_type": "markdown",
   "metadata": {
    "slideshow": {
     "slide_type": "fragment"
    }
   },
   "source": [
    "Thus $\\mathbf{x}_k \\rightarrow 0.125\\mathbf{v}_1 = \\begin{bmatrix}0.375\\\\0.625}.$"
   ]
  },
  {
   "cell_type": "code",
   "execution_count": 3,
   "metadata": {
    "slideshow": {
     "slide_type": "fragment"
    }
   },
   "outputs": [
    {
     "data": {
      "text/html": [
       "<div id=\"1c2c0d0873e1f6f6\"></div>\n",
       "    <script type=\"text/javascript\">\n",
       "        $(function(){\n",
       "            var p = $(\"#1c2c0d0873e1f6f6\");\n",
       "            if (p.length==0) return;\n",
       "\n",
       "            while (!p.hasClass(\"cell\")) {\n",
       "                p=p.parent();\n",
       "\n",
       "                if (p.prop(\"tagName\") ==\"body\") return;\n",
       "            }\n",
       "            var cell = p;\n",
       "            cell.find(\".input\").addClass(\"hide-in-slideshow\")\n",
       "        });\n",
       "    </script>"
      ]
     },
     "metadata": {},
     "output_type": "display_data"
    },
    {
     "name": "stdout",
     "output_type": "stream",
     "text": [
      "\n"
     ]
    },
    {
     "data": {
      "image/png": "[encoded data removed]",
      "text/plain": [
       "<Figure size 432x288 with 1 Axes>"
      ]
     },
     "metadata": {
      "image/png": {
       "height": 231,
       "width": 349
      },
      "needs_background": "light"
     },
     "output_type": "display_data"
    }
   ],
   "source": [
    "sl.hide_code_in_slideshow()\n",
    "ax = ut.plotSetup(-0.1,1.2,-0.1,1.2)\n",
    "ut.centerAxes(ax)\n",
    "A = np.array([[0.95,0.03],[0.05,0.97]])\n",
    "v1 = np.array([0.375,0.625])\n",
    "v2 = np.array([0.225,-0.225])\n",
    "x0 = v1 + v2\n",
    "#\n",
    "ax.plot([1,0],[0,1],'b--')\n",
    "ax.text(v1[0]+0.02,v1[1]+0.02,r'${\\bf v_1}$',size=16)\n",
    "ax.plot(x0[0],x0[1],'bo')\n",
    "v = np.zeros((40,2))\n",
    "for i in range(40):\n",
    "    v[i] = v1+(0.92**i)*v2\n",
    "    ax.plot(v[i,0],v[i,1],'o')\n",
    "ax.text(v[4][0]+0.02,v[4][1]+0.02,r'${\\bf x_4}$',size=12)\n",
    "ax.text(v[10][0]+0.02,v[10][1]+0.02,r'${\\bf x_{10}}$',size=12)\n",
    "ax.text(x0[0]+0.02,x0[1]+0.02,r'${\\bf x_0}$',size=16)\n",
    "ax.plot(v1[0],v1[1],'ro')\n",
    "#ax.text(A.dot(x0)[0]+0.2,A.dot(x0)[1]+0.2,r'$A{\\bf x_0}$',size=16)\n",
    "# ax.plot([-10,10],[5*10/6.0,-5*10/6.0],'b-')\n",
    "#\n",
    "ax.annotate('Steady State', xy=(v1[0], v1[1]),  xycoords='data',\n",
    "                xytext=(0.1, 0.2), textcoords='data',\n",
    "                size=15,\n",
    "                #bbox=dict(boxstyle=\"round\", fc=\"0.8\"),\n",
    "                arrowprops={'arrowstyle': 'simple',\n",
    "                                'fc': '0.5', \n",
    "                                'ec': 'none',\n",
    "                                'connectionstyle' : 'arc3,rad=-0.3'},\n",
    "                )\n",
    "ax.annotate('Initial State', xy=(v[0,0], v[0,1]),  xycoords='data',\n",
    "                xytext=(0.4, 0.8), textcoords='data',\n",
    "                size=15,\n",
    "                #bbox=dict(boxstyle=\"round\", fc=\"0.8\"),\n",
    "                arrowprops={'arrowstyle': 'simple',\n",
    "                                'fc': '0.5', \n",
    "                                'ec': 'none',\n",
    "                                'connectionstyle' : 'arc3,rad=-0.3'},\n",
    "                )\n",
    "print('')"
   ]
  }
 ],
 "metadata": {
  "celltoolbar": "Slideshow",
  "kernelspec": {
   "display_name": "Python 3",
   "language": "python",
   "name": "python3"
  },
  "language_info": {
   "codemirror_mode": {
    "name": "ipython",
    "version": 3
   },
   "file_extension": ".py",
   "mimetype": "text/x-python",
   "name": "python",
   "nbconvert_exporter": "python",
   "pygments_lexer": "ipython3",
   "version": "3.7.7"
  }
 },
 "nbformat": 4,
 "nbformat_minor": 1
}
